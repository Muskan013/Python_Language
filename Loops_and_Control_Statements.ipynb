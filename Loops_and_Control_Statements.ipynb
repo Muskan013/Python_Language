{
 "cells": [
  {
   "cell_type": "markdown",
   "id": "878d13d9",
   "metadata": {},
   "source": [
    "CONDITIONAL LOOPS - IF else"
   ]
  },
  {
   "cell_type": "code",
   "execution_count": 9,
   "id": "e9777e47",
   "metadata": {},
   "outputs": [],
   "source": [
    "age = 3\n",
    "if age >= 18:\n",
    "    print(\"eligible to vote\")"
   ]
  },
  {
   "cell_type": "code",
   "execution_count": null,
   "id": "ddb1dfa6",
   "metadata": {},
   "outputs": [],
   "source": []
  },
  {
   "cell_type": "markdown",
   "id": "6adaeeca",
   "metadata": {},
   "source": [
    "2. ELSE STATEMENT"
   ]
  },
  {
   "cell_type": "code",
   "execution_count": 10,
   "id": "3edc9ae0",
   "metadata": {},
   "outputs": [
    {
     "name": "stdout",
     "output_type": "stream",
     "text": [
      "eligible to vote\n"
     ]
    }
   ],
   "source": [
    "age = 19\n",
    "if age >= 18:\n",
    "    print(\"eligible to vote\")\n",
    "else:\n",
    "    print(\"not eligible to vote\")"
   ]
  },
  {
   "cell_type": "code",
   "execution_count": null,
   "id": "0ad1fe7c",
   "metadata": {},
   "outputs": [],
   "source": []
  },
  {
   "cell_type": "markdown",
   "id": "e285641d",
   "metadata": {},
   "source": [
    "If- Elif- Else statement"
   ]
  },
  {
   "cell_type": "code",
   "execution_count": 11,
   "id": "231479bf",
   "metadata": {},
   "outputs": [
    {
     "name": "stdout",
     "output_type": "stream",
     "text": [
      "u r a teenager\n"
     ]
    }
   ],
   "source": [
    "age = 16\n",
    "if age < 12:\n",
    "    print(\"u r a child\")\n",
    "elif age < 18:\n",
    "    print(\"u r a teenager\")\n",
    "else:\n",
    "    print(\"u r an adult\")"
   ]
  },
  {
   "cell_type": "code",
   "execution_count": null,
   "id": "043476ce",
   "metadata": {},
   "outputs": [],
   "source": []
  },
  {
   "cell_type": "markdown",
   "id": "385f9a4d",
   "metadata": {},
   "source": [
    "NESTED IF STATEMENT"
   ]
  },
  {
   "cell_type": "code",
   "execution_count": 12,
   "id": "cbbd778b",
   "metadata": {},
   "outputs": [
    {
     "name": "stdout",
     "output_type": "stream",
     "text": [
      "u r not old enough to vote\n"
     ]
    }
   ],
   "source": [
    "age = 2\n",
    "citizen = True\n",
    "\n",
    "if age >= 18:\n",
    "    if citizen:\n",
    "        print(\"u r eligible to vote\")\n",
    "    else:\n",
    "        print(\"u r not a citizen, so u cannot vote\")\n",
    "else:\n",
    "    print(\"u r not old enough to vote\")"
   ]
  },
  {
   "cell_type": "code",
   "execution_count": null,
   "id": "ddd6abfe",
   "metadata": {},
   "outputs": [],
   "source": []
  },
  {
   "cell_type": "markdown",
   "id": "2a515cc1",
   "metadata": {},
   "source": [
    "COMPARISON IN CONDITIONAL STATEMENTS"
   ]
  },
  {
   "cell_type": "code",
   "execution_count": 13,
   "id": "34a99819",
   "metadata": {},
   "outputs": [
    {
     "name": "stdout",
     "output_type": "stream",
     "text": [
      " x is not equal to y\n",
      "x is not equal to y\n",
      "x is less than y\n",
      "u r a child\n"
     ]
    }
   ],
   "source": [
    "x = 10\n",
    "y = 20\n",
    "\n",
    "if x == y:\n",
    "    print(\"x is equal to y\")\n",
    "else:\n",
    "    print(\" x is not equal to y\")\n",
    "    \n",
    "if x != y:\n",
    "    print(\"x is not equal to y\")\n",
    "\n",
    "if x > y:\n",
    "    print(\"x is greater than y\")\n",
    "    \n",
    "if x < y:\n",
    "    print(\"x is less than y\")\n",
    "    \n",
    "if x <= 12:\n",
    "    print(\"u r a child\")\n",
    "elif x <= 18:\n",
    "    print(\" ur an teenager\")\n",
    "else:\n",
    "    print(\" u r an adult\")"
   ]
  },
  {
   "cell_type": "code",
   "execution_count": null,
   "id": "d67c9faa",
   "metadata": {},
   "outputs": [],
   "source": []
  },
  {
   "cell_type": "markdown",
   "id": "3fd5f1bb",
   "metadata": {},
   "source": [
    "Logical operators in conditions"
   ]
  },
  {
   "cell_type": "code",
   "execution_count": 14,
   "id": "c722646b",
   "metadata": {},
   "outputs": [
    {
     "name": "stdout",
     "output_type": "stream",
     "text": [
      "u r eligible to vote\n",
      "u r eligible to vote\n",
      "u need a voter id to vote\n"
     ]
    }
   ],
   "source": [
    "age = 25\n",
    "citizen = True\n",
    "has_voter_id = False\n",
    "\n",
    "#logical AND: Both condition must be true\n",
    "if age >= 18 and citizen:\n",
    "    print(\"u r eligible to vote\")\n",
    "\n",
    "#Logical OR: Atleast one condition should be true\n",
    "if age < 18 or not citizen:\n",
    "    print(\"u r not eligible to vote\")\n",
    "else:\n",
    "    print(\"u r eligible to vote\")\n",
    "    \n",
    "# Logical NOT: Reverses the result of the condition\n",
    "if not has_voter_id:\n",
    "    print(\"u need a voter id to vote\")"
   ]
  },
  {
   "cell_type": "code",
   "execution_count": null,
   "id": "72cdd290",
   "metadata": {},
   "outputs": [],
   "source": []
  },
  {
   "cell_type": "markdown",
   "id": "ce9ccc26",
   "metadata": {},
   "source": [
    "WHILE LOOP"
   ]
  },
  {
   "cell_type": "code",
   "execution_count": 15,
   "id": "bdcdfd42",
   "metadata": {},
   "outputs": [
    {
     "name": "stdout",
     "output_type": "stream",
     "text": [
      "1\n",
      "2\n",
      "3\n",
      "4\n",
      "5\n",
      "6\n",
      "7\n",
      "8\n",
      "9\n",
      "10\n"
     ]
    }
   ],
   "source": [
    "count = 1\n",
    "while count <= 10:\n",
    "    print(count)\n",
    "    count += 1"
   ]
  },
  {
   "cell_type": "code",
   "execution_count": null,
   "id": "08032692",
   "metadata": {},
   "outputs": [],
   "source": []
  },
  {
   "cell_type": "markdown",
   "id": "0ce963dd",
   "metadata": {},
   "source": [
    "FOR LOOP"
   ]
  },
  {
   "cell_type": "code",
   "execution_count": null,
   "id": "30a203b4",
   "metadata": {},
   "outputs": [],
   "source": [
    "# range -> number generator\n",
    "1 to 5, start -1, ending 5\n",
    "range(1,6)"
   ]
  },
  {
   "cell_type": "code",
   "execution_count": 17,
   "id": "dd6674e4",
   "metadata": {},
   "outputs": [
    {
     "name": "stdout",
     "output_type": "stream",
     "text": [
      "1\n",
      "2\n",
      "3\n",
      "4\n",
      "5\n"
     ]
    }
   ],
   "source": [
    "for num in range(1,6):\n",
    "    print(num)"
   ]
  },
  {
   "cell_type": "code",
   "execution_count": null,
   "id": "003479db",
   "metadata": {},
   "outputs": [],
   "source": []
  },
  {
   "cell_type": "markdown",
   "id": "e51ee6ba",
   "metadata": {},
   "source": [
    "key difference b/w while anf for loop"
   ]
  },
  {
   "cell_type": "markdown",
   "id": "0617bd4e",
   "metadata": {},
   "source": [
    "while loop: runs until the condition is false. Typically used when the number of iterations is not known in advance."
   ]
  },
  {
   "cell_type": "markdown",
   "id": "325d4e2a",
   "metadata": {},
   "source": [
    "For loop: runs a fixed number of times, usually based on the length of a sequence or range."
   ]
  },
  {
   "cell_type": "markdown",
   "id": "8584af4f",
   "metadata": {},
   "source": [
    "Looping through sequences"
   ]
  },
  {
   "cell_type": "markdown",
   "id": "77465088",
   "metadata": {},
   "source": [
    "the for loop is particularly useful for iterating over sequences like lists, strings, and dictionaries. This is key in data science for processing data sets or collections of data."
   ]
  },
  {
   "cell_type": "code",
   "execution_count": 18,
   "id": "cbe9ff17",
   "metadata": {},
   "outputs": [
    {
     "name": "stdout",
     "output_type": "stream",
     "text": [
      "apple\n",
      "banana\n",
      "cherry\n"
     ]
    }
   ],
   "source": [
    "fruits = [\"apple\", \"banana\", \"cherry\"]\n",
    "\n",
    "for i in fruits:\n",
    "    print(i)"
   ]
  },
  {
   "cell_type": "code",
   "execution_count": null,
   "id": "11011f59",
   "metadata": {},
   "outputs": [],
   "source": []
  },
  {
   "cell_type": "markdown",
   "id": "b6b8a45b",
   "metadata": {},
   "source": [
    "ELse in Loops"
   ]
  },
  {
   "cell_type": "markdown",
   "id": "6f2b30c5",
   "metadata": {},
   "source": [
    "python allows an optional else block to be added to a loop. the else block will execute if the loop finishes normally (i.e., without hitting a break)"
   ]
  },
  {
   "cell_type": "code",
   "execution_count": 19,
   "id": "f6d215a0",
   "metadata": {},
   "outputs": [
    {
     "name": "stdout",
     "output_type": "stream",
     "text": [
      "1\n",
      "2\n",
      "3\n",
      "4\n",
      "5\n",
      "loop completed successfully\n"
     ]
    }
   ],
   "source": [
    "for num in range(1,6):\n",
    "    print(num)\n",
    "else:\n",
    "    print(\"loop completed successfully\")"
   ]
  },
  {
   "cell_type": "code",
   "execution_count": null,
   "id": "1026d1e6",
   "metadata": {},
   "outputs": [],
   "source": []
  },
  {
   "cell_type": "markdown",
   "id": "345bac88",
   "metadata": {},
   "source": [
    "LOOP CONTROL STATEMENTS"
   ]
  },
  {
   "cell_type": "markdown",
   "id": "b9165adc",
   "metadata": {},
   "source": [
    "Break: the break statement is used to exit a loop prematurely, stopping the loop when a specific condition is met. it is often used when we want to terminate the loop based on some logic before the loop naturally finishes its iterations."
   ]
  },
  {
   "cell_type": "code",
   "execution_count": 20,
   "id": "7c7ac296",
   "metadata": {},
   "outputs": [
    {
     "name": "stdout",
     "output_type": "stream",
     "text": [
      "1\n",
      "2\n",
      "3\n",
      "4\n",
      "5\n"
     ]
    }
   ],
   "source": [
    "for num in range(1,11):\n",
    "    if num == 6:\n",
    "        break\n",
    "    print(num)\n",
    "else:\n",
    "    print(\"loop terminated successfully at 5\")"
   ]
  },
  {
   "cell_type": "code",
   "execution_count": null,
   "id": "47637d35",
   "metadata": {},
   "outputs": [],
   "source": []
  },
  {
   "cell_type": "code",
   "execution_count": 21,
   "id": "c5b3fbef",
   "metadata": {},
   "outputs": [
    {
     "name": "stdout",
     "output_type": "stream",
     "text": [
      "1\n",
      "2\n",
      "3\n",
      "4\n",
      "5\n",
      "loop terminated successfully at 5\n"
     ]
    }
   ],
   "source": [
    "for num in range(1, 11):\n",
    "    if num == 6:\n",
    "        break\n",
    "    print(num)\n",
    "if num == 6:\n",
    "    print(\"loop terminated successfully at 5\")"
   ]
  },
  {
   "cell_type": "code",
   "execution_count": null,
   "id": "ded9d12b",
   "metadata": {},
   "outputs": [],
   "source": []
  },
  {
   "cell_type": "markdown",
   "id": "f5c39824",
   "metadata": {},
   "source": [
    "CONTINUE: the continue statement allows you to skip the current iteration of a loop and move directly to the next iteration. This is usefuk when you want to avoid certain iterations but still continue looping."
   ]
  },
  {
   "cell_type": "code",
   "execution_count": 22,
   "id": "996a0a9b",
   "metadata": {},
   "outputs": [
    {
     "name": "stdout",
     "output_type": "stream",
     "text": [
      "1\n",
      "3\n",
      "4\n",
      "5\n",
      "iteration 2 has skipped\n"
     ]
    }
   ],
   "source": [
    "for num in range(1,6):\n",
    "    if num == 2:\n",
    "        continue\n",
    "    print(num)\n",
    "else:\n",
    "    print(\"iteration 2 has skipped\")"
   ]
  }
 ],
 "metadata": {
  "kernelspec": {
   "display_name": "Python 3 (ipykernel)",
   "language": "python",
   "name": "python3"
  },
  "language_info": {
   "codemirror_mode": {
    "name": "ipython",
    "version": 3
   },
   "file_extension": ".py",
   "mimetype": "text/x-python",
   "name": "python",
   "nbconvert_exporter": "python",
   "pygments_lexer": "ipython3",
   "version": "3.9.12"
  }
 },
 "nbformat": 4,
 "nbformat_minor": 5
}
