{
 "cells": [
  {
   "cell_type": "markdown",
   "id": "9fa73c2c",
   "metadata": {},
   "source": [
    "Lists\n",
    "6.1 Properties of List\n",
    "\n",
    "You can declare an empty list by simply using empty square brackets\n",
    "\n",
    "ORDERED: maintains the order of elements\n",
    "\n",
    "MUTABLE: Allows modification of elements\n",
    "\n",
    "HETEROGENOUS: can contain different data types.\n",
    "\n",
    "INDEXING: Supports accessing elements via indices.\n",
    "\n",
    "SLICING: Enables extraction of sublists.\n",
    "\n",
    "DUPLICATES: Permits multiple occurences of the same element.\n",
    "\n",
    "BUILT-IN-METHODS: Offers various methods for manipulation."
   ]
  },
  {
   "cell_type": "code",
   "execution_count": 1,
   "id": "ab974653",
   "metadata": {},
   "outputs": [
    {
     "name": "stdout",
     "output_type": "stream",
     "text": [
      "[]\n",
      "<class 'list'>\n"
     ]
    }
   ],
   "source": [
    "my_list = []\n",
    "print(my_list)\n",
    "print(type(my_list))"
   ]
  },
  {
   "cell_type": "code",
   "execution_count": null,
   "id": "8f33471d",
   "metadata": {},
   "outputs": [],
   "source": []
  },
  {
   "cell_type": "markdown",
   "id": "2a410f13",
   "metadata": {},
   "source": [
    "6.2 Declaration of list with elements"
   ]
  },
  {
   "cell_type": "code",
   "execution_count": 2,
   "id": "a7478e3a",
   "metadata": {},
   "outputs": [
    {
     "name": "stdout",
     "output_type": "stream",
     "text": [
      "[1, 2, 3, 4]\n",
      "['apple', 'banana', 'cherry']\n",
      "[1, 'banana', 4, 65, 'cherry']\n"
     ]
    }
   ],
   "source": [
    "numbers = [1, 2, 3, 4]\n",
    "fruits = [\"apple\", \"banana\", \"cherry\"]\n",
    "mixed_elements = [1, \"banana\", 4, 65, \"cherry\"]\n",
    "\n",
    "print(numbers)\n",
    "print(fruits)\n",
    "print(mixed_elements)"
   ]
  },
  {
   "cell_type": "code",
   "execution_count": null,
   "id": "5972d560",
   "metadata": {},
   "outputs": [],
   "source": []
  },
  {
   "cell_type": "markdown",
   "id": "0f5c3c2f",
   "metadata": {},
   "source": [
    "6.3 List of lists(Nested Lists)"
   ]
  },
  {
   "cell_type": "code",
   "execution_count": 3,
   "id": "e2f5edae",
   "metadata": {},
   "outputs": [
    {
     "name": "stdout",
     "output_type": "stream",
     "text": [
      "[[1, 2, 3], ['a', 'b', 'c'], ['banana', 'fathima', 2004], [True, False]]\n"
     ]
    },
    {
     "data": {
      "text/plain": [
       "'b'"
      ]
     },
     "execution_count": 3,
     "metadata": {},
     "output_type": "execute_result"
    }
   ],
   "source": [
    "nested_lists = [[1,2,3], ['a', 'b', 'c'], [\"banana\", \"fathima\", 2004], [True, False]]\n",
    "print(nested_lists)\n",
    "nested_lists[1][1]"
   ]
  },
  {
   "cell_type": "code",
   "execution_count": null,
   "id": "e9b6450a",
   "metadata": {},
   "outputs": [],
   "source": []
  },
  {
   "cell_type": "markdown",
   "id": "d9a36564",
   "metadata": {},
   "source": [
    "6.4 using the list() constructor"
   ]
  },
  {
   "cell_type": "code",
   "execution_count": 4,
   "id": "57bbcd5f",
   "metadata": {},
   "outputs": [
    {
     "name": "stdout",
     "output_type": "stream",
     "text": [
      "['F', 'a', 't', 'h', 'i', 'm', 'a']\n",
      "[1, 2, 3]\n",
      "[0, 1, 2, 3, 4]\n"
     ]
    }
   ],
   "source": [
    "#converting a string to a list\n",
    "str_list = list(\"Fathima\")\n",
    "print(str_list)\n",
    "\n",
    "#converting a tuple into a list\n",
    "tuple_list = list((1, 2, 3))\n",
    "print(tuple_list)\n",
    "\n",
    "#converting a list from i range\n",
    "range_list = list(range(5))\n",
    "print(range_list)"
   ]
  },
  {
   "cell_type": "code",
   "execution_count": null,
   "id": "7fb91990",
   "metadata": {},
   "outputs": [],
   "source": []
  },
  {
   "cell_type": "code",
   "execution_count": null,
   "id": "c227a07e",
   "metadata": {},
   "outputs": [],
   "source": [
    "LIST OPERATION"
   ]
  },
  {
   "cell_type": "code",
   "execution_count": null,
   "id": "b68dbfde",
   "metadata": {},
   "outputs": [],
   "source": [
    "6.1 Accessing Elements."
   ]
  },
  {
   "cell_type": "code",
   "execution_count": 5,
   "id": "355d2e71",
   "metadata": {},
   "outputs": [
    {
     "data": {
      "text/plain": [
       "[1, 2, 3, 4, 5]"
      ]
     },
     "execution_count": 5,
     "metadata": {},
     "output_type": "execute_result"
    }
   ],
   "source": [
    "my_list = [1, 2, 3, 4, 5]\n",
    "my_list"
   ]
  },
  {
   "cell_type": "code",
   "execution_count": 6,
   "id": "b41de14c",
   "metadata": {},
   "outputs": [
    {
     "name": "stdout",
     "output_type": "stream",
     "text": [
      "1\n",
      "4\n",
      "4\n"
     ]
    }
   ],
   "source": [
    "print(my_list[0])\n",
    "print(my_list[3])\n",
    "print(my_list[-2]) #output :true(negative indexing starts from the end)"
   ]
  },
  {
   "cell_type": "code",
   "execution_count": null,
   "id": "bb47e8db",
   "metadata": {},
   "outputs": [],
   "source": []
  },
  {
   "cell_type": "markdown",
   "id": "3b998144",
   "metadata": {},
   "source": [
    "6.2 Modifying Elements"
   ]
  },
  {
   "cell_type": "code",
   "execution_count": 7,
   "id": "2666f3d2",
   "metadata": {},
   "outputs": [
    {
     "name": "stdout",
     "output_type": "stream",
     "text": [
      "[100, 2, 3, 4, 5]\n"
     ]
    }
   ],
   "source": [
    "my_list[0] = 100\n",
    "print(my_list)"
   ]
  },
  {
   "cell_type": "code",
   "execution_count": 8,
   "id": "5d56240f",
   "metadata": {},
   "outputs": [
    {
     "name": "stdout",
     "output_type": "stream",
     "text": [
      "[100, 2, 3, 40, 5]\n"
     ]
    }
   ],
   "source": [
    "my_list[-2] = 40\n",
    "print(my_list)"
   ]
  },
  {
   "cell_type": "code",
   "execution_count": null,
   "id": "7ddaff01",
   "metadata": {},
   "outputs": [],
   "source": []
  },
  {
   "cell_type": "markdown",
   "id": "30cac7b7",
   "metadata": {},
   "source": [
    "6.3 APPENDING & EXTENDING LISTS\n",
    "\n",
    "append(item): adds an item to the end of the list.\n",
    "\n",
    "extend(iterable): adds all elements from an iterable(like anaother list)"
   ]
  },
  {
   "cell_type": "code",
   "execution_count": 9,
   "id": "e477d2b4",
   "metadata": {},
   "outputs": [
    {
     "name": "stdout",
     "output_type": "stream",
     "text": [
      "[100, 2, 3, 40, 5]\n",
      "[100, 2, 3, 40, 5, 'muskan']\n"
     ]
    }
   ],
   "source": [
    "print(my_list)\n",
    "my_list.append(\"muskan\")\n",
    "print(my_list)"
   ]
  },
  {
   "cell_type": "code",
   "execution_count": 10,
   "id": "6373f44a",
   "metadata": {},
   "outputs": [
    {
     "name": "stdout",
     "output_type": "stream",
     "text": [
      "[100, 2, 3, 40, 5, 'muskan', 4, 5, 6]\n"
     ]
    }
   ],
   "source": [
    "my_list.extend([4, 5, 6])\n",
    "print(my_list)"
   ]
  },
  {
   "cell_type": "code",
   "execution_count": null,
   "id": "65d37365",
   "metadata": {},
   "outputs": [],
   "source": []
  },
  {
   "cell_type": "markdown",
   "id": "11f9fb42",
   "metadata": {},
   "source": [
    "6.4 INSERTING ELEMENTS"
   ]
  },
  {
   "cell_type": "code",
   "execution_count": null,
   "id": "72c8934a",
   "metadata": {},
   "outputs": [],
   "source": [
    "use insert(index, item) to insert an item at a specific index."
   ]
  },
  {
   "cell_type": "code",
   "execution_count": 11,
   "id": "79e8c3ee",
   "metadata": {},
   "outputs": [
    {
     "name": "stdout",
     "output_type": "stream",
     "text": [
      "[100, 2, 3, 40, 5, 'muskan', 4, 5, 6]\n",
      "[100, 'banana', 2, 3, 40, 5, 'muskan', 4, 5, 6]\n"
     ]
    }
   ],
   "source": [
    "print(my_list)\n",
    "my_list.insert(1, \"banana\")\n",
    "print(my_list)"
   ]
  },
  {
   "cell_type": "code",
   "execution_count": null,
   "id": "2574fe27",
   "metadata": {},
   "outputs": [],
   "source": []
  },
  {
   "cell_type": "markdown",
   "id": "d1ca58c0",
   "metadata": {},
   "source": [
    "6.5 REMOVING ELEMENTS\n",
    "\n",
    "remove(item): removes the first occurence of the item.\n",
    "\n",
    "pop(index): removes and returns the item at the given index. If no index is provided, it removes the last item"
   ]
  },
  {
   "cell_type": "code",
   "execution_count": 12,
   "id": "be405908",
   "metadata": {},
   "outputs": [
    {
     "name": "stdout",
     "output_type": "stream",
     "text": [
      "[100, 'banana', 2, 3, 40, 5, 'muskan', 4, 5, 6]\n"
     ]
    }
   ],
   "source": [
    "print(my_list)"
   ]
  },
  {
   "cell_type": "code",
   "execution_count": 13,
   "id": "b3ed21e0",
   "metadata": {},
   "outputs": [
    {
     "name": "stdout",
     "output_type": "stream",
     "text": [
      "[100, 2, 3, 40, 5, 'muskan', 4, 5, 6]\n"
     ]
    }
   ],
   "source": [
    "my_list.remove(\"banana\")\n",
    "print(my_list)"
   ]
  },
  {
   "cell_type": "code",
   "execution_count": 14,
   "id": "5e7eb06e",
   "metadata": {},
   "outputs": [
    {
     "name": "stdout",
     "output_type": "stream",
     "text": [
      "[100, 2, 'cherry', 3, 40, 5, 'muskan', 4, 5, 6]\n"
     ]
    }
   ],
   "source": [
    "my_list.insert(2, \"cherry\")\n",
    "print(my_list)"
   ]
  },
  {
   "cell_type": "code",
   "execution_count": 15,
   "id": "cbf8f0c8",
   "metadata": {},
   "outputs": [
    {
     "name": "stdout",
     "output_type": "stream",
     "text": [
      "[100, 2, 'cherry', 3, 40, 5, 'muskan', 4, 5, 6, 'cherry']\n"
     ]
    }
   ],
   "source": [
    "my_list.append(\"cherry\")\n",
    "print(my_list)"
   ]
  },
  {
   "cell_type": "code",
   "execution_count": 16,
   "id": "85597b1e",
   "metadata": {},
   "outputs": [
    {
     "name": "stdout",
     "output_type": "stream",
     "text": [
      "[100, 2, 3, 40, 5, 'muskan', 4, 5, 6, 'cherry']\n"
     ]
    }
   ],
   "source": [
    "my_list.remove(\"cherry\")\n",
    "print(my_list)"
   ]
  },
  {
   "cell_type": "code",
   "execution_count": 17,
   "id": "3aaaad28",
   "metadata": {},
   "outputs": [
    {
     "name": "stdout",
     "output_type": "stream",
     "text": [
      "[100, 2, 3, 40, 5, 'muskan', 4, 5, 6]\n"
     ]
    }
   ],
   "source": [
    "my_list.remove(\"cherry\")\n",
    "print(my_list)"
   ]
  },
  {
   "cell_type": "code",
   "execution_count": 18,
   "id": "e5ce76a9",
   "metadata": {},
   "outputs": [
    {
     "name": "stdout",
     "output_type": "stream",
     "text": [
      "[100, 2, 3, 40, 5, 'muskan', 4, 5]\n"
     ]
    }
   ],
   "source": [
    "my_list.pop(-1)\n",
    "print(my_list)"
   ]
  },
  {
   "cell_type": "code",
   "execution_count": null,
   "id": "73173618",
   "metadata": {},
   "outputs": [],
   "source": []
  },
  {
   "cell_type": "markdown",
   "id": "782570b2",
   "metadata": {},
   "source": [
    "6.6 LIST LENGTH\n",
    "\n",
    "use len(list) to get number of elements in a list."
   ]
  },
  {
   "cell_type": "code",
   "execution_count": 19,
   "id": "1e4b0688",
   "metadata": {},
   "outputs": [
    {
     "name": "stdout",
     "output_type": "stream",
     "text": [
      "8\n"
     ]
    }
   ],
   "source": [
    "print(len(my_list))"
   ]
  },
  {
   "cell_type": "code",
   "execution_count": null,
   "id": "e597213a",
   "metadata": {},
   "outputs": [],
   "source": []
  },
  {
   "cell_type": "markdown",
   "id": "055df061",
   "metadata": {},
   "source": [
    "6.7 LIST SLICING\n",
    "\n",
    "you can slice lists using the syntax list[start:stop:step]"
   ]
  },
  {
   "cell_type": "code",
   "execution_count": 20,
   "id": "266efc1e",
   "metadata": {},
   "outputs": [
    {
     "data": {
      "text/plain": [
       "[100, 2, 3, 40, 5, 'muskan', 4, 5]"
      ]
     },
     "execution_count": 20,
     "metadata": {},
     "output_type": "execute_result"
    }
   ],
   "source": [
    "my_list"
   ]
  },
  {
   "cell_type": "code",
   "execution_count": 21,
   "id": "35abc651",
   "metadata": {},
   "outputs": [
    {
     "name": "stdout",
     "output_type": "stream",
     "text": [
      "[2, 3, 40]\n"
     ]
    }
   ],
   "source": [
    "sliced_list = my_list[1:4]\n",
    "print(sliced_list)"
   ]
  },
  {
   "cell_type": "code",
   "execution_count": null,
   "id": "533d2896",
   "metadata": {},
   "outputs": [],
   "source": []
  },
  {
   "cell_type": "markdown",
   "id": "61e88fba",
   "metadata": {},
   "source": [
    "6.8 LIST SORTING\n",
    "\n",
    "sort(): sorts the list in place.\n",
    "\n",
    "sorted(list): returns a new sorted list."
   ]
  },
  {
   "cell_type": "code",
   "execution_count": 22,
   "id": "746f56a7",
   "metadata": {},
   "outputs": [
    {
     "name": "stdout",
     "output_type": "stream",
     "text": [
      "[1, 2, 3, 5, 7]\n"
     ]
    }
   ],
   "source": [
    "#reverse = False -> Ascending order\n",
    "#reverse = True -> Descending order\n",
    "#sort(shift+tab)\n",
    "\n",
    "numbers = [5, 2, 7, 1, 3]\n",
    "numbers.sort(reverse = False)\n",
    "print(numbers)"
   ]
  },
  {
   "cell_type": "code",
   "execution_count": null,
   "id": "628ed1e5",
   "metadata": {},
   "outputs": [],
   "source": []
  },
  {
   "cell_type": "markdown",
   "id": "bd5ca76a",
   "metadata": {},
   "source": [
    "6.9 LIST COMPREHENSION\n",
    "\n",
    "a concise way to create lists."
   ]
  },
  {
   "cell_type": "code",
   "execution_count": 23,
   "id": "aa1f3b51",
   "metadata": {},
   "outputs": [
    {
     "name": "stdout",
     "output_type": "stream",
     "text": [
      "0\n",
      "1\n",
      "4\n",
      "9\n",
      "16\n",
      "25\n",
      "36\n",
      "49\n",
      "64\n",
      "81\n"
     ]
    }
   ],
   "source": [
    "for my_list in range(10): #range -> number generator \n",
    "    print(my_list ** 2)"
   ]
  },
  {
   "cell_type": "code",
   "execution_count": 24,
   "id": "88ecbaad",
   "metadata": {},
   "outputs": [
    {
     "data": {
      "text/plain": [
       "[0, 1, 2, 3, 4, 5, 6, 7, 8, 9]"
      ]
     },
     "execution_count": 24,
     "metadata": {},
     "output_type": "execute_result"
    }
   ],
   "source": [
    "l= []\n",
    "for i in range(10):\n",
    "    l.append(i)\n",
    "l"
   ]
  },
  {
   "cell_type": "code",
   "execution_count": 25,
   "id": "99b5c112",
   "metadata": {},
   "outputs": [
    {
     "data": {
      "text/plain": [
       "[0, 1, 2, 3, 4, 5, 6, 7, 8, 9]"
      ]
     },
     "execution_count": 25,
     "metadata": {},
     "output_type": "execute_result"
    }
   ],
   "source": [
    "[i for i in range(10)]"
   ]
  },
  {
   "cell_type": "code",
   "execution_count": 26,
   "id": "4d8d6f3d",
   "metadata": {},
   "outputs": [
    {
     "name": "stdout",
     "output_type": "stream",
     "text": [
      "81\n"
     ]
    }
   ],
   "source": [
    "print(my_list**2)"
   ]
  },
  {
   "cell_type": "code",
   "execution_count": 27,
   "id": "c27a3a19",
   "metadata": {},
   "outputs": [
    {
     "name": "stdout",
     "output_type": "stream",
     "text": [
      "[0, 1, 4, 9, 16, 25, 36, 49, 64, 81]\n"
     ]
    }
   ],
   "source": [
    "square = [my_list**2 for my_list in range(10)]\n",
    "print(square)"
   ]
  },
  {
   "cell_type": "code",
   "execution_count": null,
   "id": "3ab5f8cf",
   "metadata": {},
   "outputs": [],
   "source": []
  },
  {
   "cell_type": "markdown",
   "id": "f618b90c",
   "metadata": {},
   "source": [
    "6.10 FILTERING WITH LIST COMPREHENSION"
   ]
  },
  {
   "cell_type": "code",
   "execution_count": 28,
   "id": "e8425f44",
   "metadata": {},
   "outputs": [
    {
     "name": "stdout",
     "output_type": "stream",
     "text": [
      "[0, 2, 4, 6, 8]\n"
     ]
    }
   ],
   "source": [
    "'''\n",
    "for i in range(10):\n",
    "    if i % 2 == 0:\n",
    "        print(i)'''\n",
    "\n",
    "#syntax: \n",
    "#[action for loop if condition]  \n",
    "print([i for i in range(10) if i % 2 == 0])"
   ]
  },
  {
   "cell_type": "code",
   "execution_count": 29,
   "id": "f370e26b",
   "metadata": {},
   "outputs": [
    {
     "name": "stdout",
     "output_type": "stream",
     "text": [
      "[0, 2, 4, 6, 8]\n"
     ]
    }
   ],
   "source": [
    "x = [x for x in range(10) if x % 2 == 0]\n",
    "print(x)"
   ]
  },
  {
   "cell_type": "code",
   "execution_count": 30,
   "id": "eef610d2",
   "metadata": {},
   "outputs": [
    {
     "name": "stdout",
     "output_type": "stream",
     "text": [
      "0\n",
      "1\n",
      "2\n",
      "3\n",
      "4\n",
      "5\n",
      "6\n",
      "7\n",
      "8\n",
      "9\n"
     ]
    }
   ],
   "source": [
    "for x in range(10):\n",
    "    print(x)"
   ]
  },
  {
   "cell_type": "code",
   "execution_count": null,
   "id": "09f14d65",
   "metadata": {},
   "outputs": [],
   "source": []
  },
  {
   "cell_type": "markdown",
   "id": "2234e45e",
   "metadata": {},
   "source": [
    "6.11 STRING COMPREHENSION WITH STRINGS"
   ]
  },
  {
   "cell_type": "code",
   "execution_count": 31,
   "id": "f20b5379",
   "metadata": {},
   "outputs": [
    {
     "name": "stdout",
     "output_type": "stream",
     "text": [
      "['h', 'e', 'l', 'l', 'o']\n"
     ]
    }
   ],
   "source": [
    "chars = [char for char in \"hello\"]\n",
    "print(chars)"
   ]
  },
  {
   "cell_type": "code",
   "execution_count": null,
   "id": "3576467d",
   "metadata": {},
   "outputs": [],
   "source": []
  },
  {
   "cell_type": "markdown",
   "id": "f41ebcf8",
   "metadata": {},
   "source": [
    "6.12 NESTED LOOPS IN LIST COMPREHENSION"
   ]
  },
  {
   "cell_type": "code",
   "execution_count": null,
   "id": "57642c02",
   "metadata": {},
   "outputs": [],
   "source": [
    "for x in range(3):\n",
    "    for y in range(2):"
   ]
  },
  {
   "cell_type": "code",
   "execution_count": 35,
   "id": "3e781837",
   "metadata": {},
   "outputs": [
    {
     "name": "stdout",
     "output_type": "stream",
     "text": [
      "[(0, 0), (0, 1), (1, 0), (1, 1), (2, 0), (2, 1)]\n"
     ]
    }
   ],
   "source": [
    "pairs = [(x, y) for x in range(3) for y in range(2)]\n",
    "print(pairs)"
   ]
  },
  {
   "cell_type": "code",
   "execution_count": null,
   "id": "01cbc25e",
   "metadata": {},
   "outputs": [],
   "source": []
  },
  {
   "cell_type": "markdown",
   "id": "cfc4d3f1",
   "metadata": {},
   "source": [
    "6.13 LIST COMPREHENSION WITH IF-ELSE"
   ]
  },
  {
   "cell_type": "code",
   "execution_count": 36,
   "id": "c9c033da",
   "metadata": {},
   "outputs": [
    {
     "name": "stdout",
     "output_type": "stream",
     "text": [
      "[0, -1, 2, -3, 4]\n"
     ]
    }
   ],
   "source": [
    "numbers = [x if x % 2 == 0 else -x for x in range(5)]\n",
    "print(numbers)"
   ]
  },
  {
   "cell_type": "code",
   "execution_count": 37,
   "id": "3d44a703",
   "metadata": {},
   "outputs": [
    {
     "name": "stdout",
     "output_type": "stream",
     "text": [
      "0\n",
      "-1\n",
      "2\n",
      "-3\n",
      "4\n"
     ]
    }
   ],
   "source": [
    "for x in range(5):\n",
    "    if x % 2 == 0:\n",
    "        print(x)\n",
    "    else:\n",
    "        print(-x)"
   ]
  },
  {
   "cell_type": "code",
   "execution_count": null,
   "id": "c3198c8c",
   "metadata": {},
   "outputs": [],
   "source": []
  },
  {
   "cell_type": "markdown",
   "id": "e7bb1c18",
   "metadata": {},
   "source": [
    "6.14 LIST MEMBERSHIP\n",
    "\n",
    "use \"in\" to check if an item exists in a list"
   ]
  },
  {
   "cell_type": "code",
   "execution_count": 48,
   "id": "7737bd19",
   "metadata": {},
   "outputs": [
    {
     "name": "stdout",
     "output_type": "stream",
     "text": [
      "[9, 10, 3, 'muskan', 100, 'fathima']\n"
     ]
    }
   ],
   "source": [
    "my_lists= [9, 10, 3, \"muskan\", 100, \"fathima\"]\n",
    "\n",
    "print(my_lists)"
   ]
  },
  {
   "cell_type": "code",
   "execution_count": 50,
   "id": "e7c70c35",
   "metadata": {},
   "outputs": [
    {
     "name": "stdout",
     "output_type": "stream",
     "text": [
      "True\n"
     ]
    }
   ],
   "source": [
    "print(\"muskan\" in my_lists)"
   ]
  },
  {
   "cell_type": "code",
   "execution_count": 51,
   "id": "36a0670f",
   "metadata": {},
   "outputs": [
    {
     "name": "stdout",
     "output_type": "stream",
     "text": [
      "True\n"
     ]
    }
   ],
   "source": [
    "print(100 in my_lists)"
   ]
  },
  {
   "cell_type": "code",
   "execution_count": null,
   "id": "a6a4ad6f",
   "metadata": {},
   "outputs": [],
   "source": []
  },
  {
   "cell_type": "markdown",
   "id": "4d2f1266",
   "metadata": {},
   "source": [
    "6.15 COPYING A LIST\n",
    "\n",
    "list.copy() or list[:]: creates a shallow copy."
   ]
  },
  {
   "cell_type": "code",
   "execution_count": 53,
   "id": "7b0008fc",
   "metadata": {},
   "outputs": [
    {
     "data": {
      "text/plain": [
       "[9, 10, 3, 'muskan', 100, 'fathima']"
      ]
     },
     "execution_count": 53,
     "metadata": {},
     "output_type": "execute_result"
    }
   ],
   "source": [
    "copied_lists = my_lists.copy()\n",
    "copied_lists"
   ]
  },
  {
   "cell_type": "code",
   "execution_count": null,
   "id": "2bd5352a",
   "metadata": {},
   "outputs": [],
   "source": []
  },
  {
   "cell_type": "markdown",
   "id": "c1adb1ac",
   "metadata": {},
   "source": [
    "6.16 CLEARING A LIST\n",
    "\n",
    "clear():removes all elements from the list."
   ]
  },
  {
   "cell_type": "code",
   "execution_count": 54,
   "id": "a2563092",
   "metadata": {},
   "outputs": [
    {
     "data": {
      "text/plain": [
       "[]"
      ]
     },
     "execution_count": 54,
     "metadata": {},
     "output_type": "execute_result"
    }
   ],
   "source": [
    "my_lists.clear()\n",
    "my_lists"
   ]
  },
  {
   "cell_type": "code",
   "execution_count": null,
   "id": "b49aacdb",
   "metadata": {},
   "outputs": [],
   "source": []
  }
 ],
 "metadata": {
  "kernelspec": {
   "display_name": "Python 3 (ipykernel)",
   "language": "python",
   "name": "python3"
  },
  "language_info": {
   "codemirror_mode": {
    "name": "ipython",
    "version": 3
   },
   "file_extension": ".py",
   "mimetype": "text/x-python",
   "name": "python",
   "nbconvert_exporter": "python",
   "pygments_lexer": "ipython3",
   "version": "3.9.12"
  }
 },
 "nbformat": 4,
 "nbformat_minor": 5
}
