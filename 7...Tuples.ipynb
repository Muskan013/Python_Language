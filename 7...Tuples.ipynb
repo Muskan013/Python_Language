{
 "cells": [
  {
   "cell_type": "markdown",
   "id": "20c772be",
   "metadata": {},
   "source": [
    "# TUPLES\n",
    "\n",
    "Key Characteristics Of Tuples:\n",
    "\n",
    "IMMUTABLE: Once a tuple is created, its element cannot be changed, added, or removed. This makes tuples suitable for storing data that should not be modified.\n",
    "\n",
    "ORDERED: The items in a tuple have a defined order, meaning that you can access them using indexing(similar to lists)\n",
    "\n",
    "HETEROGENOUS : A tuple can contain elements of different data types.\n",
    "\n",
    "DEFINED BY PARANTHESIS: Tuple are created by plcing comma-separated values within paranthesis()"
   ]
  },
  {
   "cell_type": "code",
   "execution_count": null,
   "id": "ff4a7a4c",
   "metadata": {},
   "outputs": [],
   "source": []
  },
  {
   "cell_type": "markdown",
   "id": "ccdeb0ce",
   "metadata": {},
   "source": [
    "7.1 DECLARATION OF TUPLE"
   ]
  },
  {
   "cell_type": "code",
   "execution_count": 1,
   "id": "55960971",
   "metadata": {},
   "outputs": [
    {
     "name": "stdout",
     "output_type": "stream",
     "text": [
      "(1, 2, 3, 4)\n",
      "(1, 'apple', 4, 7, False)\n",
      "(1, (2, 3), (6, 9), 5)\n",
      "()\n",
      "(42,)\n"
     ]
    }
   ],
   "source": [
    "# A TUPLE WITH INTEGERS\n",
    "my_tuple = (1, 2, 3, 4)\n",
    "\n",
    "# A TUPLE WITH MIXED DATA TYPES\n",
    "mixed_tuple = (1, \"apple\", 4, 7, False)\n",
    "\n",
    "#A NESTED TUPLE\n",
    "nested_tuple = (1, (2, 3), (6, 9), 5)\n",
    "\n",
    "#AN EMPTY TUPLE\n",
    "empty_tuple = ()\n",
    "\n",
    "#A TUPLE WITH A SINGLE ELEMENT (note the trailing comma)\n",
    "single_element_tuple = (42,)\n",
    "\n",
    "\n",
    "\n",
    "print(my_tuple)\n",
    "print(mixed_tuple)\n",
    "print(nested_tuple)\n",
    "print(empty_tuple)\n",
    "print(single_element_tuple)"
   ]
  },
  {
   "cell_type": "code",
   "execution_count": null,
   "id": "ba0c044e",
   "metadata": {},
   "outputs": [],
   "source": []
  },
  {
   "cell_type": "markdown",
   "id": "4c7efa87",
   "metadata": {},
   "source": [
    "7.2 ACCESSING TUPLE ELEMENT"
   ]
  },
  {
   "cell_type": "code",
   "execution_count": 2,
   "id": "683f49f3",
   "metadata": {},
   "outputs": [
    {
     "name": "stdout",
     "output_type": "stream",
     "text": [
      "2\n",
      "banana\n"
     ]
    }
   ],
   "source": [
    "my_tuple = (1, 2, 3, 4, \"banana\")\n",
    "\n",
    "print(my_tuple[1])\n",
    "print(my_tuple[-1])"
   ]
  },
  {
   "cell_type": "code",
   "execution_count": null,
   "id": "cfc655c9",
   "metadata": {},
   "outputs": [],
   "source": []
  },
  {
   "cell_type": "markdown",
   "id": "b8168535",
   "metadata": {},
   "source": [
    "7.3 Tuple Operations"
   ]
  },
  {
   "cell_type": "code",
   "execution_count": 3,
   "id": "91b98fe4",
   "metadata": {},
   "outputs": [
    {
     "name": "stdout",
     "output_type": "stream",
     "text": [
      "(1, 2, 3, 4)\n"
     ]
    }
   ],
   "source": [
    "tuple1 = (1, 2)\n",
    "tuple2 = (3, 4)\n",
    "concat = tuple1 + tuple2\n",
    "print(concat)"
   ]
  },
  {
   "cell_type": "code",
   "execution_count": 4,
   "id": "625407b1",
   "metadata": {},
   "outputs": [
    {
     "name": "stdout",
     "output_type": "stream",
     "text": [
      "Fathima Muskan\n"
     ]
    }
   ],
   "source": [
    "tuple1 =(\"Fathima\")\n",
    "tuple2 = (\"Muskan\")\n",
    "concat = tuple1 +\" \"+ tuple2\n",
    "print(concat)"
   ]
  },
  {
   "cell_type": "code",
   "execution_count": 5,
   "id": "5965d188",
   "metadata": {},
   "outputs": [
    {
     "name": "stdout",
     "output_type": "stream",
     "text": [
      "Noor Ul Huda\n"
     ]
    }
   ],
   "source": [
    "tuple1 = (\"Noor Ul\")\n",
    "tuple2 = (\"Huda\")\n",
    "concat = tuple1 + \" \" + tuple2\n",
    "print(concat)"
   ]
  },
  {
   "cell_type": "code",
   "execution_count": null,
   "id": "3a92c81e",
   "metadata": {},
   "outputs": [],
   "source": []
  },
  {
   "cell_type": "markdown",
   "id": "1c73e8bd",
   "metadata": {},
   "source": [
    "7.4 Repetition"
   ]
  },
  {
   "cell_type": "code",
   "execution_count": 6,
   "id": "2583da89",
   "metadata": {},
   "outputs": [
    {
     "name": "stdout",
     "output_type": "stream",
     "text": [
      "(1, 2, 1, 2, 1, 2)\n"
     ]
    }
   ],
   "source": [
    "my_tuple = (1, 2)\n",
    "repeated = my_tuple * 3\n",
    "print(repeated)"
   ]
  },
  {
   "cell_type": "code",
   "execution_count": null,
   "id": "73cda7e2",
   "metadata": {},
   "outputs": [],
   "source": []
  },
  {
   "cell_type": "markdown",
   "id": "bdf10d05",
   "metadata": {},
   "source": [
    "7.5 Tuple Length:"
   ]
  },
  {
   "cell_type": "code",
   "execution_count": 8,
   "id": "5a07291d",
   "metadata": {},
   "outputs": [
    {
     "name": "stdout",
     "output_type": "stream",
     "text": [
      "2\n"
     ]
    }
   ],
   "source": [
    "print(len(my_tuple))"
   ]
  },
  {
   "cell_type": "code",
   "execution_count": null,
   "id": "1dc84079",
   "metadata": {},
   "outputs": [],
   "source": []
  }
 ],
 "metadata": {
  "kernelspec": {
   "display_name": "Python 3 (ipykernel)",
   "language": "python",
   "name": "python3"
  },
  "language_info": {
   "codemirror_mode": {
    "name": "ipython",
    "version": 3
   },
   "file_extension": ".py",
   "mimetype": "text/x-python",
   "name": "python",
   "nbconvert_exporter": "python",
   "pygments_lexer": "ipython3",
   "version": "3.9.12"
  }
 },
 "nbformat": 4,
 "nbformat_minor": 5
}
