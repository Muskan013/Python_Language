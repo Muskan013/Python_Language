{
 "cells": [
  {
   "cell_type": "markdown",
   "id": "317c3ed2",
   "metadata": {},
   "source": [
    "# FUNCTIONS\n",
    "\n",
    "DEFINING A FUNCTION: function using def keyword by the function name & paranthesis containing any parameters. The body of the funcyion is indented."
   ]
  },
  {
   "cell_type": "code",
   "execution_count": 1,
   "id": "2ec6316f",
   "metadata": {},
   "outputs": [
    {
     "name": "stdout",
     "output_type": "stream",
     "text": [
      "8\n"
     ]
    }
   ],
   "source": [
    "def add_numbers(a, b):\n",
    "    return a + b\n",
    "result = add_numbers (5, 3)\n",
    "print(result)"
   ]
  },
  {
   "cell_type": "code",
   "execution_count": null,
   "id": "302417fc",
   "metadata": {},
   "outputs": [],
   "source": []
  },
  {
   "cell_type": "markdown",
   "id": "79b1b775",
   "metadata": {},
   "source": [
    "### FUNCTION PARAMETERS\n",
    "\n",
    "#### 10.1 POSITIONAL PARAMETERS:"
   ]
  },
  {
   "cell_type": "code",
   "execution_count": 2,
   "id": "d3ef2d2c",
   "metadata": {},
   "outputs": [
    {
     "name": "stdout",
     "output_type": "stream",
     "text": [
      "Hello, Fathima!\n"
     ]
    }
   ],
   "source": [
    "def greet(name):\n",
    "    return f\"Hello, {name}!\"\n",
    "print(greet(\"Fathima\"))"
   ]
  },
  {
   "cell_type": "code",
   "execution_count": 3,
   "id": "3f62ea80",
   "metadata": {},
   "outputs": [
    {
     "data": {
      "text/plain": [
       "'Hello, Muskan!'"
      ]
     },
     "execution_count": 3,
     "metadata": {},
     "output_type": "execute_result"
    }
   ],
   "source": [
    "greet(\"Muskan\")"
   ]
  },
  {
   "cell_type": "code",
   "execution_count": null,
   "id": "acf082ce",
   "metadata": {},
   "outputs": [],
   "source": []
  },
  {
   "cell_type": "markdown",
   "id": "03efb673",
   "metadata": {},
   "source": [
    "#### 10.2 DEFAULT PARAMETERS:"
   ]
  },
  {
   "cell_type": "code",
   "execution_count": 4,
   "id": "182284a4",
   "metadata": {},
   "outputs": [
    {
     "name": "stdout",
     "output_type": "stream",
     "text": [
      "Hello, Guest!\n",
      "Hello, Fathima!\n"
     ]
    }
   ],
   "source": [
    "def greet(name = \"Guest\"):\n",
    "    return f\"Hello, {name}!\"\n",
    "print(greet())\n",
    "print(greet(\"Fathima\"))"
   ]
  },
  {
   "cell_type": "code",
   "execution_count": null,
   "id": "a0598389",
   "metadata": {},
   "outputs": [],
   "source": []
  },
  {
   "cell_type": "markdown",
   "id": "1a023514",
   "metadata": {},
   "source": [
    "#### 10.3 KEYWORD PARAMETERS"
   ]
  },
  {
   "cell_type": "code",
   "execution_count": 5,
   "id": "983c1fc6",
   "metadata": {},
   "outputs": [
    {
     "name": "stdout",
     "output_type": "stream",
     "text": [
      "Fathima is 20 years old.\n"
     ]
    }
   ],
   "source": [
    "def describe_person(name, age):\n",
    "    return f\"{name} is {age} years old.\"\n",
    "print(describe_person(\"Fathima\", 20))\n"
   ]
  },
  {
   "cell_type": "code",
   "execution_count": 6,
   "id": "fceadba7",
   "metadata": {},
   "outputs": [
    {
     "name": "stdout",
     "output_type": "stream",
     "text": [
      "Fathima is 20 years old\n"
     ]
    }
   ],
   "source": [
    "def describe_person(name, age):\n",
    "    return f\"{name} is {age} years old\"\n",
    "print(describe_person(age = 20, name = \"Fathima\"))"
   ]
  },
  {
   "cell_type": "code",
   "execution_count": null,
   "id": "fba1afdc",
   "metadata": {},
   "outputs": [],
   "source": []
  },
  {
   "cell_type": "markdown",
   "id": "56f3bf1b",
   "metadata": {},
   "source": [
    "#### 10.4 VARIABLE-LENGTH ARGUMENTS\n",
    "\n",
    "#using (*args)"
   ]
  },
  {
   "cell_type": "code",
   "execution_count": 7,
   "id": "8a621fe3",
   "metadata": {},
   "outputs": [
    {
     "name": "stdout",
     "output_type": "stream",
     "text": [
      "10\n"
     ]
    }
   ],
   "source": [
    "def add_all (*args):\n",
    "    return sum(args)\n",
    "print(add_all(1, 2, 3, 4))"
   ]
  },
  {
   "cell_type": "code",
   "execution_count": 8,
   "id": "ccc97c90",
   "metadata": {},
   "outputs": [
    {
     "data": {
      "text/plain": [
       "28"
      ]
     },
     "execution_count": 8,
     "metadata": {},
     "output_type": "execute_result"
    }
   ],
   "source": [
    "add_all(1, 2, 3, 4, 5, 6, 7)"
   ]
  },
  {
   "cell_type": "code",
   "execution_count": null,
   "id": "deab78b7",
   "metadata": {},
   "outputs": [],
   "source": []
  },
  {
   "cell_type": "markdown",
   "id": "c09ccfd8",
   "metadata": {},
   "source": [
    "#using (**kwargs)"
   ]
  },
  {
   "cell_type": "code",
   "execution_count": null,
   "id": "cdc17cd8",
   "metadata": {},
   "outputs": [],
   "source": [
    "def info(**kwargs):\n",
    "    for key, value in kwargs.items():\n",
    "        print(f\"{key}: {value}\")\n",
    "\n",
    "info(name = \"Fathima\", age = 20)"
   ]
  },
  {
   "cell_type": "code",
   "execution_count": 10,
   "id": "8cf8c340",
   "metadata": {},
   "outputs": [
    {
     "name": "stdout",
     "output_type": "stream",
     "text": [
      "city: Tumkur\n",
      "is_active: True\n"
     ]
    }
   ],
   "source": [
    "info(city = \"Tumkur\", is_active = True)"
   ]
  },
  {
   "cell_type": "code",
   "execution_count": null,
   "id": "1e88fbfd",
   "metadata": {},
   "outputs": [],
   "source": []
  },
  {
   "cell_type": "markdown",
   "id": "941766f5",
   "metadata": {},
   "source": [
    "#### 10.5 Return Statement"
   ]
  },
  {
   "cell_type": "code",
   "execution_count": 11,
   "id": "124f2f95",
   "metadata": {},
   "outputs": [
    {
     "name": "stdout",
     "output_type": "stream",
     "text": [
      "30\n"
     ]
    }
   ],
   "source": [
    "def sum_2_num(a,b):\n",
    "    z = a + b\n",
    "    return z\n",
    "sum_2_num(10, 20)\n",
    "sum = sum_2_num(10, 20)\n",
    "print(sum)"
   ]
  },
  {
   "cell_type": "code",
   "execution_count": null,
   "id": "d8eaf4fd",
   "metadata": {},
   "outputs": [],
   "source": []
  },
  {
   "cell_type": "code",
   "execution_count": null,
   "id": "8421a177",
   "metadata": {},
   "outputs": [],
   "source": [
    "#drawback of print"
   ]
  },
  {
   "cell_type": "code",
   "execution_count": 12,
   "id": "65880b35",
   "metadata": {},
   "outputs": [
    {
     "name": "stdout",
     "output_type": "stream",
     "text": [
      "30\n",
      "30\n",
      "None\n"
     ]
    }
   ],
   "source": [
    "def sum_2_num(a,b):\n",
    "    z = a + b\n",
    "    print(z)\n",
    "sum_2_num(10, 20)\n",
    "sum = sum_2_num(10, 20)\n",
    "print(sum)"
   ]
  },
  {
   "cell_type": "code",
   "execution_count": null,
   "id": "22556c0b",
   "metadata": {},
   "outputs": [],
   "source": []
  },
  {
   "cell_type": "code",
   "execution_count": 13,
   "id": "a1bce8dd",
   "metadata": {},
   "outputs": [
    {
     "name": "stdout",
     "output_type": "stream",
     "text": [
      "6\n"
     ]
    }
   ],
   "source": [
    "def multiply(x, y):\n",
    "    return x * y\n",
    "print(multiply(2, 3))"
   ]
  },
  {
   "cell_type": "code",
   "execution_count": null,
   "id": "448e654e",
   "metadata": {},
   "outputs": [],
   "source": []
  },
  {
   "cell_type": "markdown",
   "id": "8f4f0726",
   "metadata": {},
   "source": [
    "#### 10.6 SCOPE OF VARIABLE"
   ]
  },
  {
   "cell_type": "code",
   "execution_count": 14,
   "id": "aeb88004",
   "metadata": {},
   "outputs": [
    {
     "name": "stdout",
     "output_type": "stream",
     "text": [
      "15\n"
     ]
    }
   ],
   "source": [
    "x = 10 #global variable\n",
    "def my_func():\n",
    "    y = 5 #local variable\n",
    "    return x + y\n",
    "print(my_func())"
   ]
  },
  {
   "cell_type": "code",
   "execution_count": 15,
   "id": "4078ea7d",
   "metadata": {},
   "outputs": [
    {
     "name": "stdout",
     "output_type": "stream",
     "text": [
      "10\n"
     ]
    }
   ],
   "source": [
    "print(x)"
   ]
  },
  {
   "cell_type": "code",
   "execution_count": 16,
   "id": "e4dede42",
   "metadata": {},
   "outputs": [
    {
     "ename": "NameError",
     "evalue": "name 'y' is not defined",
     "output_type": "error",
     "traceback": [
      "\u001b[1;31m---------------------------------------------------------------------------\u001b[0m",
      "\u001b[1;31mNameError\u001b[0m                                 Traceback (most recent call last)",
      "Input \u001b[1;32mIn [16]\u001b[0m, in \u001b[0;36m<cell line: 1>\u001b[1;34m()\u001b[0m\n\u001b[1;32m----> 1\u001b[0m \u001b[38;5;28mprint\u001b[39m(\u001b[43my\u001b[49m)\n",
      "\u001b[1;31mNameError\u001b[0m: name 'y' is not defined"
     ]
    }
   ],
   "source": [
    "print(y)"
   ]
  },
  {
   "cell_type": "code",
   "execution_count": null,
   "id": "59321457",
   "metadata": {},
   "outputs": [],
   "source": []
  },
  {
   "cell_type": "markdown",
   "id": "5435cf0e",
   "metadata": {},
   "source": [
    "## LAMBDA FUNCTION\n",
    "\n",
    "ANONYMOUS: Lambda functions are defined without a name, unlike regular functions defined using def keyword.\n",
    "\n",
    "SINGLE EXPRESSION: A lambda function can contain only a single expression. This means it cannot contain commands or multiple expression.\n",
    "\n",
    "RETURN VALUE: The result of the expression is returned automatically, without the need for a return statement.\n",
    "\n",
    "lambda argument: expression\n",
    "\n",
    "ARGUMENT: the parameters the function accepts (can be zero or more)\n",
    "\n",
    "EXPRESSION: a single expression that is evaluated and returned."
   ]
  },
  {
   "cell_type": "code",
   "execution_count": null,
   "id": "eb07811c",
   "metadata": {},
   "outputs": [],
   "source": []
  },
  {
   "cell_type": "markdown",
   "id": "f0aca976",
   "metadata": {},
   "source": [
    "#### 10.1 BASIC LAMBDA FUNCTION"
   ]
  },
  {
   "cell_type": "code",
   "execution_count": 17,
   "id": "6ee3b55f",
   "metadata": {},
   "outputs": [
    {
     "name": "stdout",
     "output_type": "stream",
     "text": [
      "8\n"
     ]
    }
   ],
   "source": [
    "add = lambda x, y: x + y \n",
    "result = add(3, 5)\n",
    "print(result)"
   ]
  },
  {
   "cell_type": "code",
   "execution_count": null,
   "id": "43d68577",
   "metadata": {},
   "outputs": [],
   "source": []
  },
  {
   "cell_type": "markdown",
   "id": "99d443e6",
   "metadata": {},
   "source": [
    "### USING LAMBDA WITH BUILT-IN FUNCTION\n",
    "\n",
    "##### 10.1 USING map():\n",
    "\n"
   ]
  },
  {
   "cell_type": "code",
   "execution_count": 18,
   "id": "5ad74d8d",
   "metadata": {},
   "outputs": [
    {
     "name": "stdout",
     "output_type": "stream",
     "text": [
      "[1, 4, 9, 16, 25, 36]\n"
     ]
    }
   ],
   "source": [
    "numbers = [1, 2, 3, 4, 5, 6]\n",
    "squared = list(map(lambda x : x**2, numbers))\n",
    "print(squared)"
   ]
  },
  {
   "cell_type": "code",
   "execution_count": null,
   "id": "5dd60ec1",
   "metadata": {},
   "outputs": [],
   "source": []
  },
  {
   "cell_type": "markdown",
   "id": "38ccad86",
   "metadata": {},
   "source": [
    "#### 10.2 USING filter()"
   ]
  },
  {
   "cell_type": "code",
   "execution_count": 19,
   "id": "3c6af59c",
   "metadata": {},
   "outputs": [
    {
     "name": "stdout",
     "output_type": "stream",
     "text": [
      "[2, 4, 6]\n"
     ]
    }
   ],
   "source": [
    "numbers = [1, 2, 3, 4, 5, 6]\n",
    "even_num = list(filter(lambda x: x % 2 == 0, numbers))\n",
    "print(even_num)"
   ]
  },
  {
   "cell_type": "code",
   "execution_count": null,
   "id": "a02ef5e8",
   "metadata": {},
   "outputs": [],
   "source": []
  },
  {
   "cell_type": "markdown",
   "id": "e0cda082",
   "metadata": {},
   "source": [
    "#### 10.3 USING reduce():"
   ]
  },
  {
   "cell_type": "code",
   "execution_count": 20,
   "id": "22ac032b",
   "metadata": {},
   "outputs": [
    {
     "name": "stdout",
     "output_type": "stream",
     "text": [
      "24\n"
     ]
    }
   ],
   "source": [
    "from functools import reduce\n",
    "\n",
    "numbers = [1, 2, 3, 4]\n",
    "product = reduce(lambda x, y: x * y, numbers)\n",
    "print(product)"
   ]
  }
 ],
 "metadata": {
  "kernelspec": {
   "display_name": "Python 3 (ipykernel)",
   "language": "python",
   "name": "python3"
  },
  "language_info": {
   "codemirror_mode": {
    "name": "ipython",
    "version": 3
   },
   "file_extension": ".py",
   "mimetype": "text/x-python",
   "name": "python",
   "nbconvert_exporter": "python",
   "pygments_lexer": "ipython3",
   "version": "3.9.12"
  }
 },
 "nbformat": 4,
 "nbformat_minor": 5
}
