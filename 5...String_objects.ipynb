{
 "cells": [
  {
   "cell_type": "markdown",
   "id": "b8911782",
   "metadata": {},
   "source": [
    "String Objects"
   ]
  },
  {
   "cell_type": "markdown",
   "id": "a3c4d601",
   "metadata": {},
   "source": [
    "Creating Strings"
   ]
  },
  {
   "cell_type": "code",
   "execution_count": 2,
   "id": "3a80b0b8",
   "metadata": {},
   "outputs": [],
   "source": [
    "my_string = 'Aimerz'"
   ]
  },
  {
   "cell_type": "code",
   "execution_count": 3,
   "id": "ad2682a5",
   "metadata": {},
   "outputs": [],
   "source": [
    "my_string2 = 'DATA SCIENCE WITH GEN AI'"
   ]
  },
  {
   "cell_type": "code",
   "execution_count": 4,
   "id": "6a72cdb7",
   "metadata": {},
   "outputs": [
    {
     "data": {
      "text/plain": [
       "'Aimerz'"
      ]
     },
     "execution_count": 4,
     "metadata": {},
     "output_type": "execute_result"
    }
   ],
   "source": [
    "my_string"
   ]
  },
  {
   "cell_type": "code",
   "execution_count": 5,
   "id": "301ea4a6",
   "metadata": {},
   "outputs": [
    {
     "data": {
      "text/plain": [
       "'DATA SCIENCE WITH GEN AI'"
      ]
     },
     "execution_count": 5,
     "metadata": {},
     "output_type": "execute_result"
    }
   ],
   "source": [
    "my_string2"
   ]
  },
  {
   "cell_type": "code",
   "execution_count": null,
   "id": "d803699e",
   "metadata": {},
   "outputs": [],
   "source": []
  },
  {
   "cell_type": "markdown",
   "id": "86d03649",
   "metadata": {},
   "source": [
    "Multi Line Strings"
   ]
  },
  {
   "cell_type": "code",
   "execution_count": 6,
   "id": "d2bbc909",
   "metadata": {},
   "outputs": [],
   "source": [
    "multi_line_string = \"\"\"This is\n",
    "a multiple line \n",
    "string\"\"\""
   ]
  },
  {
   "cell_type": "code",
   "execution_count": 7,
   "id": "a2b3bf4c",
   "metadata": {},
   "outputs": [
    {
     "data": {
      "text/plain": [
       "'This is\\na multiple line \\nstring'"
      ]
     },
     "execution_count": 7,
     "metadata": {},
     "output_type": "execute_result"
    }
   ],
   "source": [
    "multi_line_string"
   ]
  },
  {
   "cell_type": "code",
   "execution_count": null,
   "id": "d9db87c0",
   "metadata": {},
   "outputs": [],
   "source": []
  },
  {
   "cell_type": "markdown",
   "id": "e75d1a72",
   "metadata": {},
   "source": [
    "String Methods"
   ]
  },
  {
   "cell_type": "markdown",
   "id": "fd176ff4",
   "metadata": {},
   "source": [
    "5.1 Changing Methods"
   ]
  },
  {
   "cell_type": "markdown",
   "id": "f4d3c3cd",
   "metadata": {},
   "source": [
    "upper(): converts all character to uppercase."
   ]
  },
  {
   "cell_type": "markdown",
   "id": "7db359a3",
   "metadata": {},
   "source": [
    "lower(): converts all characters to lowercase."
   ]
  },
  {
   "cell_type": "markdown",
   "id": "209b30f5",
   "metadata": {},
   "source": [
    "capitalize(): capitalize the first letter of the string."
   ]
  },
  {
   "cell_type": "markdown",
   "id": "d63433a3",
   "metadata": {},
   "source": [
    "title(): capitalize the first letter of each word."
   ]
  },
  {
   "cell_type": "code",
   "execution_count": 8,
   "id": "7d9c7d57",
   "metadata": {},
   "outputs": [
    {
     "name": "stdout",
     "output_type": "stream",
     "text": [
      "HELLO WORLD\n",
      "Hello world\n",
      "Hello World\n"
     ]
    }
   ],
   "source": [
    "text = \"hello world\"\n",
    "print(text.upper())\n",
    "print(text.capitalize())\n",
    "print(text.title())"
   ]
  },
  {
   "cell_type": "code",
   "execution_count": null,
   "id": "a3e7f5e6",
   "metadata": {},
   "outputs": [],
   "source": []
  },
  {
   "cell_type": "markdown",
   "id": "be840b36",
   "metadata": {},
   "source": [
    "5.2 Checking properties"
   ]
  },
  {
   "cell_type": "markdown",
   "id": "a2a8c395",
   "metadata": {},
   "source": [
    "isalpha():returns true if all characters are alphabetic."
   ]
  },
  {
   "cell_type": "markdown",
   "id": "b9737795",
   "metadata": {},
   "source": [
    "isdigit(): rteurns true if all characters are digits."
   ]
  },
  {
   "cell_type": "markdown",
   "id": "bd83c4f1",
   "metadata": {},
   "source": [
    "isalum(): returns true if all characters are alphanumeric (letters or digits.)"
   ]
  },
  {
   "cell_type": "code",
   "execution_count": 9,
   "id": "ae055c6b",
   "metadata": {},
   "outputs": [
    {
     "name": "stdout",
     "output_type": "stream",
     "text": [
      "True\n",
      "False\n",
      "False\n"
     ]
    }
   ],
   "source": [
    "text = \"Python3\"\n",
    "print(text.isalnum())\n",
    "print(text.isdigit())\n",
    "print(text.isalpha())"
   ]
  },
  {
   "cell_type": "code",
   "execution_count": null,
   "id": "d3772a40",
   "metadata": {},
   "outputs": [],
   "source": []
  },
  {
   "cell_type": "markdown",
   "id": "c8e40331",
   "metadata": {},
   "source": [
    "5.3 Searching & replacing"
   ]
  },
  {
   "cell_type": "markdown",
   "id": "2da5b26b",
   "metadata": {},
   "source": [
    "find(substring): returns the index of the dirst occurence of the substring or -1 if not found."
   ]
  },
  {
   "cell_type": "markdown",
   "id": "38c1d0ba",
   "metadata": {},
   "source": [
    "replace(old, new): replaces all occureneces of old with new."
   ]
  },
  {
   "cell_type": "code",
   "execution_count": 10,
   "id": "39a2cb4c",
   "metadata": {},
   "outputs": [
    {
     "name": "stdout",
     "output_type": "stream",
     "text": [
      "6\n",
      "hello python\n"
     ]
    }
   ],
   "source": [
    "text = \"hello world\"\n",
    "print(text.find(\"world\"))  # index at 6\n",
    "print(text.replace(\"world\", \"python\"))"
   ]
  },
  {
   "cell_type": "code",
   "execution_count": null,
   "id": "3713cba8",
   "metadata": {},
   "outputs": [],
   "source": []
  },
  {
   "cell_type": "markdown",
   "id": "767faf68",
   "metadata": {},
   "source": [
    "5.4 Splitting and joining"
   ]
  },
  {
   "cell_type": "markdown",
   "id": "4a01f3d7",
   "metadata": {},
   "source": [
    "split(separator): splits the string into a list of substring based on the separator."
   ]
  },
  {
   "cell_type": "markdown",
   "id": "11cd5986",
   "metadata": {},
   "source": [
    "join(iterable): joins the elements of an iterable(like a list) into a string, using the string as the separator."
   ]
  },
  {
   "cell_type": "code",
   "execution_count": 11,
   "id": "bf078468",
   "metadata": {},
   "outputs": [
    {
     "name": "stdout",
     "output_type": "stream",
     "text": [
      "['apple', 'banana', 'cherry']\n",
      "apple,banana,cherry\n"
     ]
    }
   ],
   "source": [
    "text = \"apple,banana,cherry\"\n",
    "fruits = text.split(\",\")\n",
    "print(fruits)\n",
    "print(\",\".join(fruits))"
   ]
  },
  {
   "cell_type": "code",
   "execution_count": null,
   "id": "210a237c",
   "metadata": {},
   "outputs": [],
   "source": []
  },
  {
   "cell_type": "markdown",
   "id": "3a9cd4bd",
   "metadata": {},
   "source": [
    "5.5 TRIMMING WHITESPACE"
   ]
  },
  {
   "cell_type": "markdown",
   "id": "61fc8223",
   "metadata": {},
   "source": [
    "strip(): removes leading and trailing whitespace."
   ]
  },
  {
   "cell_type": "markdown",
   "id": "d6abda8b",
   "metadata": {},
   "source": [
    "lstrip(): removes leading whitespace only."
   ]
  },
  {
   "cell_type": "markdown",
   "id": "ca2c69ea",
   "metadata": {},
   "source": [
    "rstrip(): removes trailing whitespace only."
   ]
  },
  {
   "cell_type": "code",
   "execution_count": 12,
   "id": "c6f69449",
   "metadata": {},
   "outputs": [
    {
     "name": "stdout",
     "output_type": "stream",
     "text": [
      "hello\n"
     ]
    }
   ],
   "source": [
    "text = \"    hello    \" #strip\n",
    "print(text.strip())"
   ]
  },
  {
   "cell_type": "code",
   "execution_count": 13,
   "id": "0cca7552",
   "metadata": {},
   "outputs": [
    {
     "name": "stdout",
     "output_type": "stream",
     "text": [
      "hello\n"
     ]
    }
   ],
   "source": [
    "text = \"    hello\" #lstrip\n",
    "print(text.lstrip())"
   ]
  },
  {
   "cell_type": "code",
   "execution_count": 14,
   "id": "3a653b27",
   "metadata": {},
   "outputs": [
    {
     "name": "stdout",
     "output_type": "stream",
     "text": [
      "hello\n"
     ]
    }
   ],
   "source": [
    "text = \"hello       \" #rstrip\n",
    "print(text.rstrip())"
   ]
  },
  {
   "cell_type": "code",
   "execution_count": null,
   "id": "4ff22628",
   "metadata": {},
   "outputs": [],
   "source": []
  },
  {
   "cell_type": "markdown",
   "id": "a529779d",
   "metadata": {},
   "source": [
    "5.6 STRING SLICING:"
   ]
  },
  {
   "cell_type": "code",
   "execution_count": 15,
   "id": "9453e8e2",
   "metadata": {},
   "outputs": [
    {
     "name": "stdout",
     "output_type": "stream",
     "text": [
      "he\n",
      "world\n",
      "rl\n"
     ]
    }
   ],
   "source": [
    "text = \"hello world\"\n",
    "print(text[0:2])\n",
    "print(text[6:])\n",
    "print(text[-3:-1])"
   ]
  },
  {
   "cell_type": "code",
   "execution_count": null,
   "id": "e9957d73",
   "metadata": {},
   "outputs": [],
   "source": []
  },
  {
   "cell_type": "markdown",
   "id": "a20626f9",
   "metadata": {},
   "source": [
    "5.7 string immutability"
   ]
  },
  {
   "cell_type": "code",
   "execution_count": 16,
   "id": "67447a15",
   "metadata": {},
   "outputs": [
    {
     "name": "stdout",
     "output_type": "stream",
     "text": [
      "hello\n"
     ]
    }
   ],
   "source": [
    "text = \"hello\"\n",
    "text.upper()\n",
    "print(text)"
   ]
  },
  {
   "cell_type": "code",
   "execution_count": null,
   "id": "9e4e8051",
   "metadata": {},
   "outputs": [],
   "source": []
  },
  {
   "cell_type": "code",
   "execution_count": null,
   "id": "9bc33f79",
   "metadata": {},
   "outputs": [],
   "source": [
    "String Operations"
   ]
  },
  {
   "cell_type": "markdown",
   "id": "fa25e11c",
   "metadata": {},
   "source": [
    "5.1 String Concatenation"
   ]
  },
  {
   "cell_type": "code",
   "execution_count": 17,
   "id": "ca0aab87",
   "metadata": {},
   "outputs": [
    {
     "name": "stdout",
     "output_type": "stream",
     "text": [
      "Hello World\n"
     ]
    }
   ],
   "source": [
    "str1 = \"Hello\"\n",
    "str2 = \"World\"\n",
    "stringConcat = (str1 + \" \" +str2) #adding a space between them\n",
    "print(stringConcat) "
   ]
  },
  {
   "cell_type": "code",
   "execution_count": 18,
   "id": "457e137b",
   "metadata": {},
   "outputs": [
    {
     "name": "stdout",
     "output_type": "stream",
     "text": [
      "hello world\n",
      "helloworld\n"
     ]
    }
   ],
   "source": [
    "#using join() method\n",
    "var1 = \"hello\"\n",
    "var2 = \"world\"\n",
    "#join method is used to combine the strings\n",
    "\n",
    "print(\" \".join([var1, var2]))\n",
    "print(\"\".join([var1, var2]))"
   ]
  },
  {
   "cell_type": "code",
   "execution_count": null,
   "id": "35142750",
   "metadata": {},
   "outputs": [],
   "source": []
  },
  {
   "cell_type": "markdown",
   "id": "bf9155f8",
   "metadata": {},
   "source": [
    "5.2 String Repitation"
   ]
  },
  {
   "cell_type": "code",
   "execution_count": 19,
   "id": "de41a24c",
   "metadata": {},
   "outputs": [
    {
     "name": "stdout",
     "output_type": "stream",
     "text": [
      "hahahahaha\n"
     ]
    }
   ],
   "source": [
    "str1 = \"ha\"\n",
    "result = str1 * 5\n",
    "print(result)"
   ]
  },
  {
   "cell_type": "code",
   "execution_count": null,
   "id": "72db5f51",
   "metadata": {},
   "outputs": [],
   "source": []
  },
  {
   "cell_type": "markdown",
   "id": "90cbd3a3",
   "metadata": {},
   "source": [
    "5.3 String Comparison"
   ]
  },
  {
   "cell_type": "code",
   "execution_count": 20,
   "id": "880e1cc5",
   "metadata": {},
   "outputs": [
    {
     "name": "stdout",
     "output_type": "stream",
     "text": [
      "False\n",
      "True\n"
     ]
    }
   ],
   "source": [
    "str1 = \"apple\"\n",
    "str2 = \"banana\"\n",
    "\n",
    "print( str1 == str2)\n",
    "print( str1 < str2) #output :True(becuase 'apple' comes before 'banana' lexicographically)"
   ]
  },
  {
   "cell_type": "code",
   "execution_count": null,
   "id": "9b9b5e85",
   "metadata": {},
   "outputs": [],
   "source": []
  },
  {
   "cell_type": "markdown",
   "id": "8c8edbcd",
   "metadata": {},
   "source": [
    "5.4 Checking substring"
   ]
  },
  {
   "cell_type": "code",
   "execution_count": 21,
   "id": "15fb3257",
   "metadata": {},
   "outputs": [
    {
     "data": {
      "text/plain": [
       "True"
      ]
     },
     "execution_count": 21,
     "metadata": {},
     "output_type": "execute_result"
    }
   ],
   "source": [
    "string = \"hello, world \"\n",
    "substring = \"world\"   \n",
    "\n",
    "substring in string"
   ]
  }
 ],
 "metadata": {
  "kernelspec": {
   "display_name": "Python 3 (ipykernel)",
   "language": "python",
   "name": "python3"
  },
  "language_info": {
   "codemirror_mode": {
    "name": "ipython",
    "version": 3
   },
   "file_extension": ".py",
   "mimetype": "text/x-python",
   "name": "python",
   "nbconvert_exporter": "python",
   "pygments_lexer": "ipython3",
   "version": "3.9.12"
  }
 },
 "nbformat": 4,
 "nbformat_minor": 5
}
