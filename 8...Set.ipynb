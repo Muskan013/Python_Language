{
 "cells": [
  {
   "cell_type": "markdown",
   "id": "bcc8d547",
   "metadata": {},
   "source": [
    "# SET\n",
    "\n",
    "KEY CHARACTERISTICS OF SET:\n",
    "\n",
    "UNORDERED: The element in a set do not have a defined order. you cannnot access items by their index, as u would with lists or tuples.\n",
    "\n",
    "UNIQUE ELEMENTS: Sets automatically discard duplicate items. Each element in a set must be unique\n",
    "\n",
    "MUTABLE: U can add or remove elements from a set after it has been created.\n",
    "\n",
    "DEFINED BY CURLY BRACES: Sets are created using curly braces {} or the set() constructor\n",
    "\n",
    "HETEROGENOUS : A set can contain elements of different data types."
   ]
  },
  {
   "cell_type": "code",
   "execution_count": null,
   "id": "b6791c16",
   "metadata": {},
   "outputs": [],
   "source": []
  },
  {
   "cell_type": "markdown",
   "id": "0c4d8d12",
   "metadata": {},
   "source": [
    "#### 8.1 DECLARATION USING SET CONSTRUCTOR"
   ]
  },
  {
   "cell_type": "code",
   "execution_count": 2,
   "id": "0df81de2",
   "metadata": {},
   "outputs": [
    {
     "data": {
      "text/plain": [
       "{1, 2, 3, 4}"
      ]
     },
     "execution_count": 2,
     "metadata": {},
     "output_type": "execute_result"
    }
   ],
   "source": [
    "# using the set() constructor\n",
    "another_set = set([1, 2, 3, 4])\n",
    "another_set"
   ]
  },
  {
   "cell_type": "code",
   "execution_count": 3,
   "id": "6c7814d3",
   "metadata": {},
   "outputs": [
    {
     "name": "stdout",
     "output_type": "stream",
     "text": [
      "<class 'set'>\n"
     ]
    }
   ],
   "source": [
    "print(type(another_set))"
   ]
  },
  {
   "cell_type": "code",
   "execution_count": null,
   "id": "1332417a",
   "metadata": {},
   "outputs": [],
   "source": []
  },
  {
   "cell_type": "markdown",
   "id": "48804da4",
   "metadata": {},
   "source": [
    "#### 8.2 DECLARATION OF SET WITH MIXED DATA TYPES"
   ]
  },
  {
   "cell_type": "code",
   "execution_count": 4,
   "id": "a0198bfc",
   "metadata": {},
   "outputs": [
    {
     "name": "stdout",
     "output_type": "stream",
     "text": [
      "{False, 1, 3.14, 'apple', 5, 9}\n"
     ]
    }
   ],
   "source": [
    "#a set with mixed data types\n",
    "mixed_set = {1, \"apple\", 5, 9, 3.14, True, False}\n",
    "print(mixed_set)"
   ]
  },
  {
   "cell_type": "code",
   "execution_count": null,
   "id": "92c2ff44",
   "metadata": {},
   "outputs": [],
   "source": []
  },
  {
   "cell_type": "markdown",
   "id": "918eb008",
   "metadata": {},
   "source": [
    "## SET OPERATION"
   ]
  },
  {
   "cell_type": "markdown",
   "id": "a4993a9b",
   "metadata": {},
   "source": [
    "#### 8.1 ADDING ELEMENT"
   ]
  },
  {
   "cell_type": "code",
   "execution_count": 7,
   "id": "378af360",
   "metadata": {},
   "outputs": [
    {
     "name": "stdout",
     "output_type": "stream",
     "text": [
      "{1, 2, 3, 4}\n"
     ]
    }
   ],
   "source": [
    "my_set = {1, 2, 3}\n",
    "added_set = my_set.add(4)\n",
    "print(my_set)"
   ]
  },
  {
   "cell_type": "code",
   "execution_count": null,
   "id": "6880a606",
   "metadata": {},
   "outputs": [],
   "source": []
  },
  {
   "cell_type": "markdown",
   "id": "c412b92d",
   "metadata": {},
   "source": [
    "#### 8.2 REMOVING ELEMENTS"
   ]
  },
  {
   "cell_type": "code",
   "execution_count": 8,
   "id": "ce8f3945",
   "metadata": {},
   "outputs": [
    {
     "name": "stdout",
     "output_type": "stream",
     "text": [
      "{1, 2, 4}\n"
     ]
    }
   ],
   "source": [
    "my_set.remove(3)\n",
    "print(my_set)"
   ]
  },
  {
   "cell_type": "code",
   "execution_count": 9,
   "id": "26e30db3",
   "metadata": {},
   "outputs": [],
   "source": [
    "my_set\n",
    "my_set.discard(1)"
   ]
  },
  {
   "cell_type": "code",
   "execution_count": 10,
   "id": "7550948b",
   "metadata": {},
   "outputs": [
    {
     "data": {
      "text/plain": [
       "{2, 4}"
      ]
     },
     "execution_count": 10,
     "metadata": {},
     "output_type": "execute_result"
    }
   ],
   "source": [
    "my_set"
   ]
  },
  {
   "cell_type": "code",
   "execution_count": null,
   "id": "8a39c72e",
   "metadata": {},
   "outputs": [],
   "source": []
  },
  {
   "cell_type": "markdown",
   "id": "0b3a44b7",
   "metadata": {},
   "source": [
    "#### 8.3 UNION"
   ]
  },
  {
   "cell_type": "code",
   "execution_count": 11,
   "id": "0cb63189",
   "metadata": {},
   "outputs": [
    {
     "name": "stdout",
     "output_type": "stream",
     "text": [
      "{1, 2, 3, 4, 5, 6}\n"
     ]
    }
   ],
   "source": [
    "set1 = {1, 2, 3, 4}\n",
    "set2 = {4, 5, 6}\n",
    "union_set = set1.union(set2)\n",
    "print(union_set)"
   ]
  },
  {
   "cell_type": "code",
   "execution_count": null,
   "id": "c25c5faf",
   "metadata": {},
   "outputs": [],
   "source": []
  },
  {
   "cell_type": "markdown",
   "id": "bbb3fb95",
   "metadata": {},
   "source": [
    "#### 8.4 INTERSECTION"
   ]
  },
  {
   "cell_type": "code",
   "execution_count": 12,
   "id": "d6b52ac4",
   "metadata": {},
   "outputs": [
    {
     "name": "stdout",
     "output_type": "stream",
     "text": [
      "{4}\n"
     ]
    }
   ],
   "source": [
    "intersection_set = set1.intersection(set2)\n",
    "print(intersection_set)"
   ]
  },
  {
   "cell_type": "code",
   "execution_count": null,
   "id": "bfbd2f4a",
   "metadata": {},
   "outputs": [],
   "source": []
  },
  {
   "cell_type": "markdown",
   "id": "b9d677e9",
   "metadata": {},
   "source": [
    "#### 8.5 DIFFERENCE"
   ]
  },
  {
   "cell_type": "code",
   "execution_count": 13,
   "id": "e70499b7",
   "metadata": {},
   "outputs": [
    {
     "name": "stdout",
     "output_type": "stream",
     "text": [
      "{1, 2, 3}\n"
     ]
    }
   ],
   "source": [
    "difference_set = set1.difference(set2)\n",
    "print(difference_set)"
   ]
  },
  {
   "cell_type": "code",
   "execution_count": null,
   "id": "8d966934",
   "metadata": {},
   "outputs": [],
   "source": []
  },
  {
   "cell_type": "markdown",
   "id": "dd044147",
   "metadata": {},
   "source": [
    "#### 8.6 SYMMETRIC DIFFERENCE"
   ]
  },
  {
   "cell_type": "code",
   "execution_count": 14,
   "id": "c1aa88a8",
   "metadata": {},
   "outputs": [
    {
     "name": "stdout",
     "output_type": "stream",
     "text": [
      "{1, 2, 3, 5, 6}\n"
     ]
    }
   ],
   "source": [
    "sym_diff_set = set1.symmetric_difference(set2)\n",
    "print(sym_diff_set)"
   ]
  }
 ],
 "metadata": {
  "kernelspec": {
   "display_name": "Python 3 (ipykernel)",
   "language": "python",
   "name": "python3"
  },
  "language_info": {
   "codemirror_mode": {
    "name": "ipython",
    "version": 3
   },
   "file_extension": ".py",
   "mimetype": "text/x-python",
   "name": "python",
   "nbconvert_exporter": "python",
   "pygments_lexer": "ipython3",
   "version": "3.9.12"
  }
 },
 "nbformat": 4,
 "nbformat_minor": 5
}
