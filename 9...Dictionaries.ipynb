{
 "cells": [
  {
   "cell_type": "markdown",
   "id": "6a62650a",
   "metadata": {},
   "source": [
    "# DICTIONARIES\n",
    "\n",
    "#### KEY CHARACTERISTICS OF DICTIONARIES\n",
    "\n",
    "KEY VALUE PAIRS: Each item in a dictionary is a pain consisting of a key and a value. The key acts as an identifier for the associate value\n",
    "\n",
    "UNIQUE KEY: Keys in a dictionary must be unique; if a duplicate key is added, the previous value associated with that key will be overwritten.\n",
    "\n",
    "MUTABLE: u can add, remove or change items in a dictionary after it is created.\n",
    "\n",
    "UNORDERED: The items in a dictionary do not maintain any order. As of python 3.7, dictionaries preserve the insertion order, but this should not be relied upon for logic, as they are inherently unordered.\n",
    "\n",
    "DEFINED CURLT BRACES: Dictionaries are created using curly braces{} or the dict() constructor."
   ]
  },
  {
   "cell_type": "code",
   "execution_count": null,
   "id": "c32e54d6",
   "metadata": {},
   "outputs": [],
   "source": []
  },
  {
   "cell_type": "markdown",
   "id": "59d5eea0",
   "metadata": {},
   "source": [
    "#### 9.1 using Curly Braces"
   ]
  },
  {
   "cell_type": "code",
   "execution_count": 1,
   "id": "e39ac41e",
   "metadata": {},
   "outputs": [
    {
     "name": "stdout",
     "output_type": "stream",
     "text": [
      "{'name': 'Muskan', 'age': 20, 'city': 'Tumkur'}\n",
      "<class 'dict'>\n"
     ]
    }
   ],
   "source": [
    "my_dict = {\n",
    "    \"name\": \"Muskan\",\n",
    "    \"age\": 20,\n",
    "    \"city\": \"Tumkur\"\n",
    "}\n",
    "print(my_dict)\n",
    "print(type(my_dict))"
   ]
  },
  {
   "cell_type": "code",
   "execution_count": null,
   "id": "8420f347",
   "metadata": {},
   "outputs": [],
   "source": []
  },
  {
   "cell_type": "markdown",
   "id": "c343bef3",
   "metadata": {},
   "source": [
    "#### 9.2 Using the dict() constructor"
   ]
  },
  {
   "cell_type": "code",
   "execution_count": 2,
   "id": "e681d3ae",
   "metadata": {},
   "outputs": [
    {
     "data": {
      "text/plain": [
       "{'name': 'Muskan', 'age': 20, 'city': 'Tumkur'}"
      ]
     },
     "execution_count": 2,
     "metadata": {},
     "output_type": "execute_result"
    }
   ],
   "source": [
    "another_dict = dict( name = \"Muskan\", age = 20, city = \"Tumkur\")\n",
    "another_dict"
   ]
  },
  {
   "cell_type": "code",
   "execution_count": null,
   "id": "2c29afbf",
   "metadata": {},
   "outputs": [],
   "source": []
  },
  {
   "cell_type": "markdown",
   "id": "a6a4061a",
   "metadata": {},
   "source": [
    "#### 9.3 A DICTIONARY WITH MIXED DATA TYPES"
   ]
  },
  {
   "cell_type": "code",
   "execution_count": 3,
   "id": "5fb5ff48",
   "metadata": {},
   "outputs": [
    {
     "name": "stdout",
     "output_type": "stream",
     "text": [
      "{'name': 'Muskan', 'age': 20, 'city': 'Tumkur', 'is_active': True, 1: 'one', 2: [1, 2, 3]}\n"
     ]
    }
   ],
   "source": [
    "mixed_dict = {\n",
    "    \"name\" : \"Muskan\",\n",
    "    \"age\" : 20,\n",
    "    \"city\" : \"Tumkur\",\n",
    "    \"is_active\" : True,\n",
    "    1 : \"one\",\n",
    "    2 : [1, 2, 3]\n",
    "}\n",
    "print(mixed_dict)"
   ]
  },
  {
   "cell_type": "code",
   "execution_count": null,
   "id": "59099aff",
   "metadata": {},
   "outputs": [],
   "source": []
  },
  {
   "cell_type": "markdown",
   "id": "1f74fa44",
   "metadata": {},
   "source": [
    "## DICTIONARY OBJECT METHODS"
   ]
  },
  {
   "cell_type": "markdown",
   "id": "0a41c213",
   "metadata": {},
   "source": [
    "#### 9.1 dict.clear()"
   ]
  },
  {
   "cell_type": "code",
   "execution_count": 4,
   "id": "c78f9ffa",
   "metadata": {},
   "outputs": [
    {
     "name": "stdout",
     "output_type": "stream",
     "text": [
      "{}\n"
     ]
    }
   ],
   "source": [
    "my_dict = {'a': 1,\n",
    "           'b': 3}\n",
    "my_dict.clear()\n",
    "print(my_dict)"
   ]
  },
  {
   "cell_type": "code",
   "execution_count": null,
   "id": "c949b198",
   "metadata": {},
   "outputs": [],
   "source": []
  },
  {
   "cell_type": "markdown",
   "id": "f0f6fd8f",
   "metadata": {},
   "source": [
    "#### 9.2 dict_copy()"
   ]
  },
  {
   "cell_type": "code",
   "execution_count": 5,
   "id": "3a5c12e2",
   "metadata": {},
   "outputs": [
    {
     "name": "stdout",
     "output_type": "stream",
     "text": [
      "{'a': 1, 'b': 2}\n"
     ]
    }
   ],
   "source": [
    "my_dict = {'a': 1, 'b': 2}\n",
    "new_dict = my_dict.copy()\n",
    "print(new_dict)"
   ]
  },
  {
   "cell_type": "code",
   "execution_count": null,
   "id": "6cf357c1",
   "metadata": {},
   "outputs": [],
   "source": []
  },
  {
   "cell_type": "markdown",
   "id": "0c0469c9",
   "metadata": {},
   "source": [
    "#### 9.3 dict_items()"
   ]
  },
  {
   "cell_type": "code",
   "execution_count": 6,
   "id": "cd477e60",
   "metadata": {},
   "outputs": [
    {
     "name": "stdout",
     "output_type": "stream",
     "text": [
      "{'a': 1, 'b': 2}\n",
      "dict_items([('a', 1), ('b', 2)])\n"
     ]
    }
   ],
   "source": [
    "#creating pairs\n",
    "print(new_dict)\n",
    "print(new_dict.items())\n"
   ]
  },
  {
   "cell_type": "code",
   "execution_count": null,
   "id": "409d7b97",
   "metadata": {},
   "outputs": [],
   "source": []
  },
  {
   "cell_type": "markdown",
   "id": "9dc30408",
   "metadata": {},
   "source": [
    "#### 9.4 dict.keys(), dict.values()"
   ]
  },
  {
   "cell_type": "code",
   "execution_count": 7,
   "id": "f349ce6c",
   "metadata": {},
   "outputs": [
    {
     "name": "stdout",
     "output_type": "stream",
     "text": [
      "{'a': 1, 'b': 2}\n",
      "dict_keys(['a', 'b'])\n",
      "dict_values([1, 2])\n"
     ]
    }
   ],
   "source": [
    "#can print both key and values separately \n",
    "print(new_dict)\n",
    "print(new_dict.keys())\n",
    "print(new_dict.values())"
   ]
  },
  {
   "cell_type": "code",
   "execution_count": null,
   "id": "51480284",
   "metadata": {},
   "outputs": [],
   "source": []
  },
  {
   "cell_type": "markdown",
   "id": "1cd33743",
   "metadata": {},
   "source": [
    "#### 9.5 dict.pop(key, default = None)"
   ]
  },
  {
   "cell_type": "code",
   "execution_count": 8,
   "id": "210e2614",
   "metadata": {},
   "outputs": [
    {
     "name": "stdout",
     "output_type": "stream",
     "text": [
      "{'a': 1, 'b': 2}\n",
      "1\n",
      "{'b': 2}\n"
     ]
    }
   ],
   "source": [
    "print(new_dict)\n",
    "print(new_dict.pop('a')) # enter the key\n",
    "print(new_dict)"
   ]
  },
  {
   "cell_type": "code",
   "execution_count": null,
   "id": "c6d87c62",
   "metadata": {},
   "outputs": [],
   "source": []
  },
  {
   "cell_type": "markdown",
   "id": "c2174202",
   "metadata": {},
   "source": [
    "#### 9.6 dict.update(other)"
   ]
  },
  {
   "cell_type": "code",
   "execution_count": 9,
   "id": "7e295a07",
   "metadata": {},
   "outputs": [
    {
     "name": "stdout",
     "output_type": "stream",
     "text": [
      "{'name': 'Fathima', 'age': 20}\n",
      "{'name': 'Fathima', 'age': 21, 'city': 'Tumkur'}\n"
     ]
    }
   ],
   "source": [
    "my_dict = {\n",
    "    \"name\" : \"Fathima\",\n",
    "    \"age\": 20,\n",
    "          }\n",
    "print(my_dict)\n",
    "\n",
    "#update the values and it will overwrite.\n",
    "my_dict.update({\"age\": 21, \"city\": \"Tumkur\"})\n",
    "print(my_dict)"
   ]
  }
 ],
 "metadata": {
  "kernelspec": {
   "display_name": "Python 3 (ipykernel)",
   "language": "python",
   "name": "python3"
  },
  "language_info": {
   "codemirror_mode": {
    "name": "ipython",
    "version": 3
   },
   "file_extension": ".py",
   "mimetype": "text/x-python",
   "name": "python",
   "nbconvert_exporter": "python",
   "pygments_lexer": "ipython3",
   "version": "3.9.12"
  }
 },
 "nbformat": 4,
 "nbformat_minor": 5
}
