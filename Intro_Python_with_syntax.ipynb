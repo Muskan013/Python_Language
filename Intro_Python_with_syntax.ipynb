{
 "cells": [
  {
   "cell_type": "code",
   "execution_count": 1,
   "id": "6a119e02",
   "metadata": {},
   "outputs": [
    {
     "name": "stdout",
     "output_type": "stream",
     "text": [
      "hello world\n"
     ]
    }
   ],
   "source": [
    "print(\"hello world\")"
   ]
  },
  {
   "cell_type": "code",
   "execution_count": null,
   "id": "63b509c6",
   "metadata": {},
   "outputs": [],
   "source": []
  },
  {
   "cell_type": "markdown",
   "id": "7e5ba3fa",
   "metadata": {},
   "source": [
    "Variable"
   ]
  },
  {
   "cell_type": "code",
   "execution_count": 2,
   "id": "5b9f2331",
   "metadata": {},
   "outputs": [],
   "source": [
    "name = \"John\"    # 'name' is a variable\n",
    "_age = 25        # '_age' is a variable starting with an underscore\n",
    "height = 175     # 'height2' is a variable"
   ]
  },
  {
   "cell_type": "markdown",
   "id": "67e57eb3",
   "metadata": {},
   "source": [
    "5 Rules\n",
    "\n",
    "1. Alphanumeric with no numbers as 1st character\n",
    "2. case sensitive\n",
    "3. Any length\n",
    "4. No special character except\n",
    "5. No reserved keywords"
   ]
  },
  {
   "cell_type": "code",
   "execution_count": 3,
   "id": "c9cfe20d",
   "metadata": {},
   "outputs": [
    {
     "name": "stdout",
     "output_type": "stream",
     "text": [
      "100\n",
      "10\n",
      "20\n"
     ]
    }
   ],
   "source": [
    "abc = 10\n",
    "abc10 = 100\n",
    "_age = 20\n",
    "print (abc10)\n",
    "print (abc)\n",
    "print (_age)"
   ]
  },
  {
   "cell_type": "code",
   "execution_count": null,
   "id": "a0908300",
   "metadata": {},
   "outputs": [],
   "source": []
  },
  {
   "cell_type": "markdown",
   "id": "37c75a2b",
   "metadata": {},
   "source": [
    "AlphaNumeric with no numbers as 1st character"
   ]
  },
  {
   "cell_type": "code",
   "execution_count": 4,
   "id": "d74421d4",
   "metadata": {},
   "outputs": [
    {
     "ename": "SyntaxError",
     "evalue": "invalid syntax (2232258619.py, line 1)",
     "output_type": "error",
     "traceback": [
      "\u001b[1;36m  Input \u001b[1;32mIn [4]\u001b[1;36m\u001b[0m\n\u001b[1;33m    10abc = 2\u001b[0m\n\u001b[1;37m      ^\u001b[0m\n\u001b[1;31mSyntaxError\u001b[0m\u001b[1;31m:\u001b[0m invalid syntax\n"
     ]
    }
   ],
   "source": [
    "10abc = 2\n",
    "print (10abc)"
   ]
  },
  {
   "cell_type": "code",
   "execution_count": null,
   "id": "de871b9e",
   "metadata": {},
   "outputs": [],
   "source": []
  },
  {
   "cell_type": "markdown",
   "id": "26430d54",
   "metadata": {},
   "source": [
    "CASE SENSITIVE"
   ]
  },
  {
   "cell_type": "code",
   "execution_count": 5,
   "id": "92c2fbe5",
   "metadata": {},
   "outputs": [
    {
     "name": "stdout",
     "output_type": "stream",
     "text": [
      "100\n",
      "200\n"
     ]
    }
   ],
   "source": [
    "abc = 100\n",
    "print(abc)\n",
    "\n",
    "ABC = 200\n",
    "print(ABC)"
   ]
  },
  {
   "cell_type": "code",
   "execution_count": null,
   "id": "4fa04a66",
   "metadata": {},
   "outputs": [],
   "source": []
  },
  {
   "cell_type": "code",
   "execution_count": null,
   "id": "97ffd5c3",
   "metadata": {},
   "outputs": [],
   "source": [
    "ANY LENGTH"
   ]
  },
  {
   "cell_type": "code",
   "execution_count": 6,
   "id": "8096a81c",
   "metadata": {},
   "outputs": [
    {
     "name": "stdout",
     "output_type": "stream",
     "text": [
      "4\n"
     ]
    }
   ],
   "source": [
    "anylength = 4\n",
    "print (anylength)"
   ]
  },
  {
   "cell_type": "code",
   "execution_count": null,
   "id": "af74f81d",
   "metadata": {},
   "outputs": [],
   "source": []
  },
  {
   "cell_type": "markdown",
   "id": "b89cfe69",
   "metadata": {},
   "source": [
    "NO SPECIAL CHARACTER"
   ]
  },
  {
   "cell_type": "code",
   "execution_count": 7,
   "id": "0ca61491",
   "metadata": {},
   "outputs": [
    {
     "ename": "SyntaxError",
     "evalue": "cannot assign to operator (1475683269.py, line 1)",
     "output_type": "error",
     "traceback": [
      "\u001b[1;36m  Input \u001b[1;32mIn [7]\u001b[1;36m\u001b[0m\n\u001b[1;33m    X@Y = 12\u001b[0m\n\u001b[1;37m    ^\u001b[0m\n\u001b[1;31mSyntaxError\u001b[0m\u001b[1;31m:\u001b[0m cannot assign to operator\n"
     ]
    }
   ],
   "source": [
    "X@Y = 12\n",
    "print (X@Y)"
   ]
  },
  {
   "cell_type": "code",
   "execution_count": 8,
   "id": "83bf6b6e",
   "metadata": {},
   "outputs": [
    {
     "name": "stdout",
     "output_type": "stream",
     "text": [
      "10\n"
     ]
    }
   ],
   "source": [
    "X_Y = 10\n",
    "print (X_Y)"
   ]
  },
  {
   "cell_type": "code",
   "execution_count": 9,
   "id": "d7dbe3c1",
   "metadata": {},
   "outputs": [
    {
     "name": "stdout",
     "output_type": "stream",
     "text": [
      "10\n"
     ]
    }
   ],
   "source": [
    "_XY = 10\n",
    "print (_XY)"
   ]
  },
  {
   "cell_type": "code",
   "execution_count": 10,
   "id": "dad68967",
   "metadata": {},
   "outputs": [
    {
     "name": "stdout",
     "output_type": "stream",
     "text": [
      "10\n"
     ]
    }
   ],
   "source": [
    "_=10\n",
    "print(_)"
   ]
  },
  {
   "cell_type": "code",
   "execution_count": null,
   "id": "b51f4197",
   "metadata": {},
   "outputs": [],
   "source": []
  },
  {
   "cell_type": "markdown",
   "id": "546f1ec0",
   "metadata": {},
   "source": [
    "KEYWORDS"
   ]
  },
  {
   "cell_type": "code",
   "execution_count": 11,
   "id": "4dc09eb7",
   "metadata": {},
   "outputs": [
    {
     "name": "stdout",
     "output_type": "stream",
     "text": [
      "\n",
      "Here is a list of the Python keywords.  Enter any keyword to get more help.\n",
      "\n",
      "False               break               for                 not\n",
      "None                class               from                or\n",
      "True                continue            global              pass\n",
      "__peg_parser__      def                 if                  raise\n",
      "and                 del                 import              return\n",
      "as                  elif                in                  try\n",
      "assert              else                is                  while\n",
      "async               except              lambda              with\n",
      "await               finally             nonlocal            yield\n",
      "\n"
     ]
    }
   ],
   "source": [
    "help('keywords')"
   ]
  },
  {
   "cell_type": "code",
   "execution_count": 12,
   "id": "34f464c5",
   "metadata": {},
   "outputs": [
    {
     "ename": "SyntaxError",
     "evalue": "cannot assign to False (3957134963.py, line 1)",
     "output_type": "error",
     "traceback": [
      "\u001b[1;36m  Input \u001b[1;32mIn [12]\u001b[1;36m\u001b[0m\n\u001b[1;33m    False = 2\u001b[0m\n\u001b[1;37m    ^\u001b[0m\n\u001b[1;31mSyntaxError\u001b[0m\u001b[1;31m:\u001b[0m cannot assign to False\n"
     ]
    }
   ],
   "source": [
    "False = 2\n",
    "print(False)"
   ]
  },
  {
   "cell_type": "code",
   "execution_count": 13,
   "id": "055a899f",
   "metadata": {},
   "outputs": [
    {
     "ename": "SyntaxError",
     "evalue": "invalid syntax (2083889965.py, line 1)",
     "output_type": "error",
     "traceback": [
      "\u001b[1;36m  Input \u001b[1;32mIn [13]\u001b[1;36m\u001b[0m\n\u001b[1;33m    global = 3\u001b[0m\n\u001b[1;37m           ^\u001b[0m\n\u001b[1;31mSyntaxError\u001b[0m\u001b[1;31m:\u001b[0m invalid syntax\n"
     ]
    }
   ],
   "source": [
    "global = 3\n",
    "print(global)"
   ]
  },
  {
   "cell_type": "markdown",
   "id": "71a882e8",
   "metadata": {},
   "source": []
  },
  {
   "cell_type": "markdown",
   "id": "935d3b9d",
   "metadata": {},
   "source": [
    "SINGLE LINE COMMENT"
   ]
  },
  {
   "cell_type": "code",
   "execution_count": null,
   "id": "da33c1f9",
   "metadata": {},
   "outputs": [],
   "source": [
    "# single line code #"
   ]
  },
  {
   "cell_type": "code",
   "execution_count": null,
   "id": "bcabdcd7",
   "metadata": {},
   "outputs": [],
   "source": []
  },
  {
   "cell_type": "code",
   "execution_count": null,
   "id": "28d99c0d",
   "metadata": {},
   "outputs": [],
   "source": [
    "PARAGRAPH LINE COMMENT"
   ]
  },
  {
   "cell_type": "code",
   "execution_count": null,
   "id": "f7d7ac73",
   "metadata": {},
   "outputs": [],
   "source": [
    "\"\"\" This is a\n",
    "paragraph line comment\"\"\""
   ]
  },
  {
   "cell_type": "code",
   "execution_count": null,
   "id": "3164b5b3",
   "metadata": {},
   "outputs": [],
   "source": []
  },
  {
   "cell_type": "markdown",
   "id": "d157b921",
   "metadata": {},
   "source": [
    "INDENTATION"
   ]
  },
  {
   "cell_type": "code",
   "execution_count": 14,
   "id": "4d86f1b1",
   "metadata": {},
   "outputs": [
    {
     "name": "stdout",
     "output_type": "stream",
     "text": [
      "Okay\n"
     ]
    }
   ],
   "source": [
    "x = 10\n",
    "\n",
    "if x > 5:\n",
    "    print('Okay')\n",
    "else:\n",
    "    print('Not Okay')"
   ]
  },
  {
   "cell_type": "code",
   "execution_count": null,
   "id": "c6d71e0c",
   "metadata": {},
   "outputs": [],
   "source": []
  },
  {
   "cell_type": "markdown",
   "id": "87281795",
   "metadata": {},
   "source": [
    "DEFINING FUNCTION"
   ]
  },
  {
   "cell_type": "code",
   "execution_count": 15,
   "id": "63a52088",
   "metadata": {},
   "outputs": [],
   "source": [
    "def my_function():\n",
    "    print('Hello World')"
   ]
  },
  {
   "cell_type": "code",
   "execution_count": 16,
   "id": "06156a4d",
   "metadata": {},
   "outputs": [
    {
     "name": "stdout",
     "output_type": "stream",
     "text": [
      "Hello World\n"
     ]
    }
   ],
   "source": [
    "my_function()"
   ]
  },
  {
   "cell_type": "code",
   "execution_count": null,
   "id": "a1e5f874",
   "metadata": {},
   "outputs": [],
   "source": []
  },
  {
   "cell_type": "markdown",
   "id": "3d986e93",
   "metadata": {},
   "source": [
    "Expression Statement"
   ]
  },
  {
   "cell_type": "code",
   "execution_count": 17,
   "id": "97c3fa13",
   "metadata": {},
   "outputs": [
    {
     "name": "stdout",
     "output_type": "stream",
     "text": [
      "8\n"
     ]
    }
   ],
   "source": [
    "result = 5 + 3\n",
    "print (result)"
   ]
  },
  {
   "cell_type": "code",
   "execution_count": null,
   "id": "377acf73",
   "metadata": {},
   "outputs": [],
   "source": []
  },
  {
   "cell_type": "markdown",
   "id": "6176ec42",
   "metadata": {},
   "source": [
    "Condition Statement"
   ]
  },
  {
   "cell_type": "code",
   "execution_count": 18,
   "id": "c9852a90",
   "metadata": {},
   "outputs": [
    {
     "name": "stdout",
     "output_type": "stream",
     "text": [
      "not eligible to vote\n"
     ]
    }
   ],
   "source": [
    "age = 10\n",
    "\n",
    "if age < 18:\n",
    "    print(\"not eligible to vote\")\n",
    "else:\n",
    "    print(\"Eligible to vote\")"
   ]
  },
  {
   "cell_type": "code",
   "execution_count": null,
   "id": "84cc6cb9",
   "metadata": {},
   "outputs": [],
   "source": []
  }
 ],
 "metadata": {
  "kernelspec": {
   "display_name": "Python 3 (ipykernel)",
   "language": "python",
   "name": "python3"
  },
  "language_info": {
   "codemirror_mode": {
    "name": "ipython",
    "version": 3
   },
   "file_extension": ".py",
   "mimetype": "text/x-python",
   "name": "python",
   "nbconvert_exporter": "python",
   "pygments_lexer": "ipython3",
   "version": "3.9.12"
  }
 },
 "nbformat": 4,
 "nbformat_minor": 5
}
