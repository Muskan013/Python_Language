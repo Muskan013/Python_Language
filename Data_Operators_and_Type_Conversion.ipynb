{
 "cells": [
  {
   "cell_type": "markdown",
   "id": "c21a41c6",
   "metadata": {},
   "source": [
    "DATA OPERATORS IN PYTHON"
   ]
  },
  {
   "cell_type": "markdown",
   "id": "7c79b21d",
   "metadata": {},
   "source": [
    "Arithmetic Operators"
   ]
  },
  {
   "cell_type": "code",
   "execution_count": 1,
   "id": "4dc39626",
   "metadata": {},
   "outputs": [
    {
     "name": "stdout",
     "output_type": "stream",
     "text": [
      "13\n",
      "7\n",
      "30\n",
      "3.3333333333333335\n",
      "3\n",
      "1\n",
      "1000\n"
     ]
    }
   ],
   "source": [
    "x = 10\n",
    "y = 3\n",
    "print (x + y)\n",
    "print (x - y)\n",
    "print (x * y)\n",
    "print (x / y)\n",
    "print(x // y)    #floor division, quotient\n",
    "print (x % y)    # modulus remainder\n",
    "print (x ** y)   #(10 raised to power 3)"
   ]
  },
  {
   "cell_type": "code",
   "execution_count": null,
   "id": "35412162",
   "metadata": {},
   "outputs": [],
   "source": []
  },
  {
   "cell_type": "markdown",
   "id": "1f02f81b",
   "metadata": {},
   "source": [
    "COMPARATIVE OPERATOR"
   ]
  },
  {
   "cell_type": "code",
   "execution_count": 2,
   "id": "89bac525",
   "metadata": {},
   "outputs": [
    {
     "name": "stdout",
     "output_type": "stream",
     "text": [
      "False\n",
      "True\n",
      "False\n",
      "True\n",
      "False\n",
      "True\n"
     ]
    }
   ],
   "source": [
    "x = 10\n",
    "y = 5\n",
    "print (x == y)\n",
    "print (x != y)\n",
    "print (x < y)\n",
    "print (x > y)\n",
    "print (x <= y)\n",
    "print (x >= y)"
   ]
  },
  {
   "cell_type": "code",
   "execution_count": null,
   "id": "5e288eb0",
   "metadata": {},
   "outputs": [],
   "source": []
  },
  {
   "cell_type": "markdown",
   "id": "42009508",
   "metadata": {},
   "source": [
    "ASSIGNMENT OPERATOR"
   ]
  },
  {
   "cell_type": "code",
   "execution_count": 3,
   "id": "653a381f",
   "metadata": {},
   "outputs": [
    {
     "name": "stdout",
     "output_type": "stream",
     "text": [
      "Initial value: 10\n",
      "After += 5: 15\n",
      "After -= 3: 12\n",
      "After *= 2: 24\n",
      "After /= 4: 6.0\n",
      "After //=2: 3.0\n",
      "After %= 2: 1.0\n",
      "After **= 3: 1.0\n"
     ]
    }
   ],
   "source": [
    "# Simple Assignment\n",
    "x = 10    \n",
    "print(f\"Initial value: {x}\") # output :10 #\"f\" is formatting to read the variable \"x\" even after written under quotes\n",
    "\n",
    "\n",
    "#Add and Assign (+=)\n",
    "x += 5    # x = x + 5\n",
    "print(f\"After += 5: {x}\") #output : 15\n",
    "\n",
    "\n",
    "#Subtract and assign (-=)\n",
    "x -= 3    # x = x - 3\n",
    "print(f\"After -= 3: {x}\")  #output : 12\n",
    "\n",
    "\n",
    "#Multiply and assign (*=)\n",
    "x *= 2   #x = x * 2\n",
    "print(f\"After *= 2: {x}\")  #output : 24\n",
    "\n",
    "\n",
    "#Divide and assign (/=)\n",
    "x /= 4   # x = x / 4\n",
    "print(f\"After /= 4: {x}\") #output:6.0\n",
    "\n",
    "\n",
    "#Floor Divide and assign (//=)\n",
    "x //= 2  # x = x // 2\n",
    "print(f\"After //=2: {x}\") #output: 3.0\n",
    "\n",
    "\n",
    "#Modulus and assign (%=)\n",
    "x %= 2   # x = x % 2\n",
    "print(f\"After %= 2: {x}\") #output: 1.0\n",
    "\n",
    "\n",
    "#Exponent and assign (**=)\n",
    "x **= 3 # x = x ** 3\n",
    "print (f\"After **= 3: {x}\")  #output: 1.0"
   ]
  },
  {
   "cell_type": "code",
   "execution_count": null,
   "id": "7087533d",
   "metadata": {},
   "outputs": [],
   "source": []
  },
  {
   "cell_type": "markdown",
   "id": "31336239",
   "metadata": {},
   "source": [
    "LOGICAL OPERATOR"
   ]
  },
  {
   "cell_type": "code",
   "execution_count": 5,
   "id": "ea961d16",
   "metadata": {},
   "outputs": [
    {
     "name": "stdout",
     "output_type": "stream",
     "text": [
      "False\n",
      "False\n",
      "True\n",
      "False\n",
      "True\n"
     ]
    }
   ],
   "source": [
    "x = 100\n",
    "y = 20\n",
    "z = 10\n",
    "\n",
    "print((x > y) and (y < z))\n",
    "print((x > y) and (y > x))\n",
    "print((y > z) and (z < y))\n",
    "print(not(x > y))\n",
    "print(not(z > y))"
   ]
  },
  {
   "cell_type": "code",
   "execution_count": null,
   "id": "64f933d6",
   "metadata": {},
   "outputs": [],
   "source": []
  },
  {
   "cell_type": "markdown",
   "id": "9e35386e",
   "metadata": {},
   "source": [
    "TYPE CONVERSION"
   ]
  },
  {
   "cell_type": "markdown",
   "id": "2603071e",
   "metadata": {},
   "source": [
    "Implicit Type Conversion"
   ]
  },
  {
   "cell_type": "code",
   "execution_count": 4,
   "id": "92b66d93",
   "metadata": {},
   "outputs": [
    {
     "name": "stdout",
     "output_type": "stream",
     "text": [
      "13.5\n",
      "<class 'float'>\n"
     ]
    }
   ],
   "source": [
    "x = 10\n",
    "y = 3.5\n",
    "\n",
    "# python automatically converts 'x' to a float to match 'y'\n",
    "result = x + y\n",
    "\n",
    "print(result)  #output: 13.5 (float)\n",
    "print(type(result))"
   ]
  },
  {
   "cell_type": "code",
   "execution_count": null,
   "id": "3ac260fb",
   "metadata": {},
   "outputs": [],
   "source": []
  },
  {
   "cell_type": "markdown",
   "id": "794cc668",
   "metadata": {},
   "source": [
    "Explicit Type Conversion (Casting)\n",
    "\n",
    "1. int(): Converts to an integer\n",
    "2. float(): converts to a float\n",
    "3. str(): Converts to a string\n",
    "4. list(): Converts to a list\n",
    "5. tuple(): Converts to a tuple\n",
    "6. bool(): Converts to a boolean"
   ]
  },
  {
   "cell_type": "code",
   "execution_count": 6,
   "id": "7e1cc71a",
   "metadata": {},
   "outputs": [
    {
     "name": "stdout",
     "output_type": "stream",
     "text": [
      "42\n",
      "<class 'int'>\n"
     ]
    }
   ],
   "source": [
    "num = \"42\"\n",
    "\n",
    "int_sum = int(num) \n",
    "print(int_sum)\n",
    "print(type(int_sum))"
   ]
  },
  {
   "cell_type": "code",
   "execution_count": 7,
   "id": "f43bdfd9",
   "metadata": {},
   "outputs": [
    {
     "name": "stdout",
     "output_type": "stream",
     "text": [
      "7\n",
      "<class 'int'>\n"
     ]
    }
   ],
   "source": [
    "float_num = 7.8\n",
    "\n",
    "int_sum = int(float_num)\n",
    "print(int_sum)\n",
    "print(type(int_sum))"
   ]
  },
  {
   "cell_type": "code",
   "execution_count": 8,
   "id": "88f80714",
   "metadata": {},
   "outputs": [
    {
     "name": "stdout",
     "output_type": "stream",
     "text": [
      "301.5\n"
     ]
    }
   ],
   "source": [
    "price = \"100.50\" #string\n",
    "quantity = 3\n",
    "\n",
    "total_cost = float(price) * quantity\n",
    "print(total_cost)"
   ]
  },
  {
   "cell_type": "code",
   "execution_count": null,
   "id": "9a2701ba",
   "metadata": {},
   "outputs": [],
   "source": []
  }
 ],
 "metadata": {
  "kernelspec": {
   "display_name": "Python 3 (ipykernel)",
   "language": "python",
   "name": "python3"
  },
  "language_info": {
   "codemirror_mode": {
    "name": "ipython",
    "version": 3
   },
   "file_extension": ".py",
   "mimetype": "text/x-python",
   "name": "python",
   "nbconvert_exporter": "python",
   "pygments_lexer": "ipython3",
   "version": "3.9.12"
  }
 },
 "nbformat": 4,
 "nbformat_minor": 5
}
