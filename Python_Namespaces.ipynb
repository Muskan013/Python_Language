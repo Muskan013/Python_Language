{
 "cells": [
  {
   "cell_type": "markdown",
   "id": "fba33673",
   "metadata": {},
   "source": [
    "NAMESPACE: A namespace is a system that allows python to keep track of all the names (variables, function, objects, etc) that are currently being used in a program.Think of a namespace as a container or a mapping between names and their corresponding objects."
   ]
  },
  {
   "cell_type": "code",
   "execution_count": 1,
   "id": "9427f15b",
   "metadata": {},
   "outputs": [
    {
     "name": "stdout",
     "output_type": "stream",
     "text": [
      "5\n",
      "10\n"
     ]
    }
   ],
   "source": [
    "x = 10\n",
    "\n",
    "def my_function():\n",
    "    y = 5\n",
    "    print(y)\n",
    "    \n",
    "my_function()\n",
    "print(x)\n"
   ]
  },
  {
   "cell_type": "code",
   "execution_count": 2,
   "id": "4cf78c2f",
   "metadata": {},
   "outputs": [
    {
     "name": "stdout",
     "output_type": "stream",
     "text": [
      "10\n"
     ]
    },
    {
     "ename": "NameError",
     "evalue": "name 'y' is not defined",
     "output_type": "error",
     "traceback": [
      "\u001b[1;31m---------------------------------------------------------------------------\u001b[0m",
      "\u001b[1;31mNameError\u001b[0m                                 Traceback (most recent call last)",
      "Input \u001b[1;32mIn [2]\u001b[0m, in \u001b[0;36m<cell line: 2>\u001b[1;34m()\u001b[0m\n\u001b[0;32m      1\u001b[0m \u001b[38;5;28mprint\u001b[39m(x)\n\u001b[1;32m----> 2\u001b[0m \u001b[38;5;28mprint\u001b[39m(\u001b[43my\u001b[49m)\n",
      "\u001b[1;31mNameError\u001b[0m: name 'y' is not defined"
     ]
    }
   ],
   "source": [
    "print(x)\n",
    "print(y)"
   ]
  },
  {
   "cell_type": "code",
   "execution_count": 3,
   "id": "c9c80a73",
   "metadata": {},
   "outputs": [
    {
     "name": "stdout",
     "output_type": "stream",
     "text": [
      "10\n"
     ]
    },
    {
     "ename": "NameError",
     "evalue": "name 'g' is not defined",
     "output_type": "error",
     "traceback": [
      "\u001b[1;31m---------------------------------------------------------------------------\u001b[0m",
      "\u001b[1;31mNameError\u001b[0m                                 Traceback (most recent call last)",
      "Input \u001b[1;32mIn [3]\u001b[0m, in \u001b[0;36m<cell line: 6>\u001b[1;34m()\u001b[0m\n\u001b[0;32m      3\u001b[0m     \u001b[38;5;28mprint\u001b[39m(g)\n\u001b[0;32m      4\u001b[0m my_func()\n\u001b[1;32m----> 6\u001b[0m \u001b[38;5;28mprint\u001b[39m(\u001b[43mg\u001b[49m)\n",
      "\u001b[1;31mNameError\u001b[0m: name 'g' is not defined"
     ]
    }
   ],
   "source": [
    "def my_func():\n",
    "    g = 10\n",
    "    print(g)\n",
    "my_func()\n",
    "\n",
    "print(g)"
   ]
  },
  {
   "cell_type": "code",
   "execution_count": null,
   "id": "b8786a95",
   "metadata": {},
   "outputs": [],
   "source": []
  },
  {
   "cell_type": "markdown",
   "id": "2d27727a",
   "metadata": {},
   "source": [
    "SCOPE OF VARIABLE"
   ]
  },
  {
   "cell_type": "markdown",
   "id": "127dc5b3",
   "metadata": {},
   "source": [
    "The scope of a variable defines the regionof the code where the variable can be accessed. Python has 4 levels of scope, commonly abbreviated as LEGB:"
   ]
  },
  {
   "cell_type": "markdown",
   "id": "ec731955",
   "metadata": {},
   "source": [
    "Local: Variables creted inside a function(accessible only within the function)."
   ]
  },
  {
   "cell_type": "markdown",
   "id": "b050d2a6",
   "metadata": {},
   "source": [
    "Enclosed: variables in the enclosing function (functions inside functions.)"
   ]
  },
  {
   "cell_type": "markdown",
   "id": "5a51d1e1",
   "metadata": {},
   "source": [
    "Global: variables declared at the top of the script or outside all functions(accessible throughtout the entire program.)"
   ]
  },
  {
   "cell_type": "markdown",
   "id": "605e824a",
   "metadata": {},
   "source": [
    "Built-in: special names that are part of python's core(like len() or print())."
   ]
  },
  {
   "cell_type": "code",
   "execution_count": 4,
   "id": "e9e00246",
   "metadata": {},
   "outputs": [
    {
     "name": "stdout",
     "output_type": "stream",
     "text": [
      "10\n"
     ]
    }
   ],
   "source": [
    "#local scope\n",
    "def my_func():\n",
    "    f=10\n",
    "    print(f)\n",
    "my_func()"
   ]
  },
  {
   "cell_type": "code",
   "execution_count": 5,
   "id": "18d68db0",
   "metadata": {},
   "outputs": [
    {
     "ename": "NameError",
     "evalue": "name 'f' is not defined",
     "output_type": "error",
     "traceback": [
      "\u001b[1;31m---------------------------------------------------------------------------\u001b[0m",
      "\u001b[1;31mNameError\u001b[0m                                 Traceback (most recent call last)",
      "Input \u001b[1;32mIn [5]\u001b[0m, in \u001b[0;36m<cell line: 1>\u001b[1;34m()\u001b[0m\n\u001b[1;32m----> 1\u001b[0m \u001b[38;5;28mprint\u001b[39m(\u001b[43mf\u001b[49m)\n",
      "\u001b[1;31mNameError\u001b[0m: name 'f' is not defined"
     ]
    }
   ],
   "source": [
    "print(f)"
   ]
  },
  {
   "cell_type": "code",
   "execution_count": null,
   "id": "fe21a162",
   "metadata": {},
   "outputs": [],
   "source": []
  },
  {
   "cell_type": "code",
   "execution_count": 6,
   "id": "32780c09",
   "metadata": {},
   "outputs": [
    {
     "name": "stdout",
     "output_type": "stream",
     "text": [
      "19\n"
     ]
    }
   ],
   "source": [
    "#global scope\n",
    "b= 19\n",
    "def my_func():\n",
    "    print(b)\n",
    "my_func()"
   ]
  },
  {
   "cell_type": "code",
   "execution_count": null,
   "id": "b58c7fb0",
   "metadata": {},
   "outputs": [],
   "source": []
  },
  {
   "cell_type": "code",
   "execution_count": 7,
   "id": "8d1a7759",
   "metadata": {},
   "outputs": [
    {
     "name": "stdout",
     "output_type": "stream",
     "text": [
      "30\n"
     ]
    }
   ],
   "source": [
    "#enclosed scope(nested function):\n",
    "def outer_func():\n",
    "    c = 30\n",
    "    \n",
    "    def inner_func():\n",
    "        print(c)\n",
    "    inner_func()\n",
    "outer_func()"
   ]
  },
  {
   "cell_type": "code",
   "execution_count": null,
   "id": "ff1702f2",
   "metadata": {},
   "outputs": [],
   "source": []
  },
  {
   "cell_type": "code",
   "execution_count": 8,
   "id": "ecd32275",
   "metadata": {},
   "outputs": [
    {
     "name": "stdout",
     "output_type": "stream",
     "text": [
      "3\n"
     ]
    }
   ],
   "source": [
    "#built-in-scope\n",
    "print(len([1, 2, 3])) #len() function"
   ]
  }
 ],
 "metadata": {
  "kernelspec": {
   "display_name": "Python 3 (ipykernel)",
   "language": "python",
   "name": "python3"
  },
  "language_info": {
   "codemirror_mode": {
    "name": "ipython",
    "version": 3
   },
   "file_extension": ".py",
   "mimetype": "text/x-python",
   "name": "python",
   "nbconvert_exporter": "python",
   "pygments_lexer": "ipython3",
   "version": "3.9.12"
  }
 },
 "nbformat": 4,
 "nbformat_minor": 5
}
